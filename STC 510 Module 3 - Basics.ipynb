{
 "cells": [
  {
   "cell_type": "markdown",
   "id": "a8f9f1d8",
   "metadata": {},
   "source": [
    "# STC 510 Module 3 Python Data Transformation Basic\n",
    "### By Marisa Boyd"
   ]
  },
  {
   "attachments": {},
   "cell_type": "markdown",
   "id": "5a216b04",
   "metadata": {},
   "source": [
    "For this assignment, we are working with crime stats for the Phoenix area found on Kaggle. The data needs to be imported and explored to make some sense of it. The goal is to think about what useful (and \"actionable\") data might be of interest here, from the perspective of law enforcement or of residents, and how to group and gather this appropriately."
   ]
  },
  {
   "cell_type": "markdown",
   "id": "863e374c",
   "metadata": {},
   "source": [
    "To start this assignment, the following libraries are imported to be used throughout the analysis of this data."
   ]
  },
  {
   "cell_type": "code",
   "execution_count": 1,
   "id": "f67c4a40",
   "metadata": {},
   "outputs": [],
   "source": [
    "#Library Import\n",
    "import pandas as pd"
   ]
  },
  {
   "cell_type": "markdown",
   "id": "f0e008c0",
   "metadata": {},
   "source": [
    "Once the needed libraries are imported, the crime data from Kaggle is imported. But when attempting to import the file using the code below, an error was received, and the import failed."
   ]
  },
  {
   "cell_type": "code",
   "execution_count": 2,
   "id": "d6e860df",
   "metadata": {
    "scrolled": true
   },
   "outputs": [
    {
     "ename": "ParserError",
     "evalue": "Error tokenizing data. C error: EOF inside string starting at row 131677",
     "output_type": "error",
     "traceback": [
      "\u001b[0;31m---------------------------------------------------------------------------\u001b[0m",
      "\u001b[0;31mParserError\u001b[0m                               Traceback (most recent call last)",
      "Input \u001b[0;32mIn [2]\u001b[0m, in \u001b[0;36m<cell line: 2>\u001b[0;34m()\u001b[0m\n\u001b[1;32m      1\u001b[0m \u001b[38;5;66;03m#Import crimestat csv file\u001b[39;00m\n\u001b[0;32m----> 2\u001b[0m crimestat \u001b[38;5;241m=\u001b[39m \u001b[43mpd\u001b[49m\u001b[38;5;241;43m.\u001b[39;49m\u001b[43mread_csv\u001b[49m\u001b[43m(\u001b[49m\u001b[38;5;124;43m\"\u001b[39;49m\u001b[38;5;124;43mcrimestat (1).csv\u001b[39;49m\u001b[38;5;124;43m\"\u001b[39;49m\u001b[43m)\u001b[49m\n",
      "File \u001b[0;32m~/opt/anaconda3/lib/python3.9/site-packages/pandas/util/_decorators.py:311\u001b[0m, in \u001b[0;36mdeprecate_nonkeyword_arguments.<locals>.decorate.<locals>.wrapper\u001b[0;34m(*args, **kwargs)\u001b[0m\n\u001b[1;32m    305\u001b[0m \u001b[38;5;28;01mif\u001b[39;00m \u001b[38;5;28mlen\u001b[39m(args) \u001b[38;5;241m>\u001b[39m num_allow_args:\n\u001b[1;32m    306\u001b[0m     warnings\u001b[38;5;241m.\u001b[39mwarn(\n\u001b[1;32m    307\u001b[0m         msg\u001b[38;5;241m.\u001b[39mformat(arguments\u001b[38;5;241m=\u001b[39marguments),\n\u001b[1;32m    308\u001b[0m         \u001b[38;5;167;01mFutureWarning\u001b[39;00m,\n\u001b[1;32m    309\u001b[0m         stacklevel\u001b[38;5;241m=\u001b[39mstacklevel,\n\u001b[1;32m    310\u001b[0m     )\n\u001b[0;32m--> 311\u001b[0m \u001b[38;5;28;01mreturn\u001b[39;00m \u001b[43mfunc\u001b[49m\u001b[43m(\u001b[49m\u001b[38;5;241;43m*\u001b[39;49m\u001b[43margs\u001b[49m\u001b[43m,\u001b[49m\u001b[43m \u001b[49m\u001b[38;5;241;43m*\u001b[39;49m\u001b[38;5;241;43m*\u001b[39;49m\u001b[43mkwargs\u001b[49m\u001b[43m)\u001b[49m\n",
      "File \u001b[0;32m~/opt/anaconda3/lib/python3.9/site-packages/pandas/io/parsers/readers.py:680\u001b[0m, in \u001b[0;36mread_csv\u001b[0;34m(filepath_or_buffer, sep, delimiter, header, names, index_col, usecols, squeeze, prefix, mangle_dupe_cols, dtype, engine, converters, true_values, false_values, skipinitialspace, skiprows, skipfooter, nrows, na_values, keep_default_na, na_filter, verbose, skip_blank_lines, parse_dates, infer_datetime_format, keep_date_col, date_parser, dayfirst, cache_dates, iterator, chunksize, compression, thousands, decimal, lineterminator, quotechar, quoting, doublequote, escapechar, comment, encoding, encoding_errors, dialect, error_bad_lines, warn_bad_lines, on_bad_lines, delim_whitespace, low_memory, memory_map, float_precision, storage_options)\u001b[0m\n\u001b[1;32m    665\u001b[0m kwds_defaults \u001b[38;5;241m=\u001b[39m _refine_defaults_read(\n\u001b[1;32m    666\u001b[0m     dialect,\n\u001b[1;32m    667\u001b[0m     delimiter,\n\u001b[0;32m   (...)\u001b[0m\n\u001b[1;32m    676\u001b[0m     defaults\u001b[38;5;241m=\u001b[39m{\u001b[38;5;124m\"\u001b[39m\u001b[38;5;124mdelimiter\u001b[39m\u001b[38;5;124m\"\u001b[39m: \u001b[38;5;124m\"\u001b[39m\u001b[38;5;124m,\u001b[39m\u001b[38;5;124m\"\u001b[39m},\n\u001b[1;32m    677\u001b[0m )\n\u001b[1;32m    678\u001b[0m kwds\u001b[38;5;241m.\u001b[39mupdate(kwds_defaults)\n\u001b[0;32m--> 680\u001b[0m \u001b[38;5;28;01mreturn\u001b[39;00m \u001b[43m_read\u001b[49m\u001b[43m(\u001b[49m\u001b[43mfilepath_or_buffer\u001b[49m\u001b[43m,\u001b[49m\u001b[43m \u001b[49m\u001b[43mkwds\u001b[49m\u001b[43m)\u001b[49m\n",
      "File \u001b[0;32m~/opt/anaconda3/lib/python3.9/site-packages/pandas/io/parsers/readers.py:581\u001b[0m, in \u001b[0;36m_read\u001b[0;34m(filepath_or_buffer, kwds)\u001b[0m\n\u001b[1;32m    578\u001b[0m     \u001b[38;5;28;01mreturn\u001b[39;00m parser\n\u001b[1;32m    580\u001b[0m \u001b[38;5;28;01mwith\u001b[39;00m parser:\n\u001b[0;32m--> 581\u001b[0m     \u001b[38;5;28;01mreturn\u001b[39;00m \u001b[43mparser\u001b[49m\u001b[38;5;241;43m.\u001b[39;49m\u001b[43mread\u001b[49m\u001b[43m(\u001b[49m\u001b[43mnrows\u001b[49m\u001b[43m)\u001b[49m\n",
      "File \u001b[0;32m~/opt/anaconda3/lib/python3.9/site-packages/pandas/io/parsers/readers.py:1255\u001b[0m, in \u001b[0;36mTextFileReader.read\u001b[0;34m(self, nrows)\u001b[0m\n\u001b[1;32m   1253\u001b[0m nrows \u001b[38;5;241m=\u001b[39m validate_integer(\u001b[38;5;124m\"\u001b[39m\u001b[38;5;124mnrows\u001b[39m\u001b[38;5;124m\"\u001b[39m, nrows)\n\u001b[1;32m   1254\u001b[0m \u001b[38;5;28;01mtry\u001b[39;00m:\n\u001b[0;32m-> 1255\u001b[0m     index, columns, col_dict \u001b[38;5;241m=\u001b[39m \u001b[38;5;28;43mself\u001b[39;49m\u001b[38;5;241;43m.\u001b[39;49m\u001b[43m_engine\u001b[49m\u001b[38;5;241;43m.\u001b[39;49m\u001b[43mread\u001b[49m\u001b[43m(\u001b[49m\u001b[43mnrows\u001b[49m\u001b[43m)\u001b[49m\n\u001b[1;32m   1256\u001b[0m \u001b[38;5;28;01mexcept\u001b[39;00m \u001b[38;5;167;01mException\u001b[39;00m:\n\u001b[1;32m   1257\u001b[0m     \u001b[38;5;28mself\u001b[39m\u001b[38;5;241m.\u001b[39mclose()\n",
      "File \u001b[0;32m~/opt/anaconda3/lib/python3.9/site-packages/pandas/io/parsers/c_parser_wrapper.py:225\u001b[0m, in \u001b[0;36mCParserWrapper.read\u001b[0;34m(self, nrows)\u001b[0m\n\u001b[1;32m    223\u001b[0m \u001b[38;5;28;01mtry\u001b[39;00m:\n\u001b[1;32m    224\u001b[0m     \u001b[38;5;28;01mif\u001b[39;00m \u001b[38;5;28mself\u001b[39m\u001b[38;5;241m.\u001b[39mlow_memory:\n\u001b[0;32m--> 225\u001b[0m         chunks \u001b[38;5;241m=\u001b[39m \u001b[38;5;28;43mself\u001b[39;49m\u001b[38;5;241;43m.\u001b[39;49m\u001b[43m_reader\u001b[49m\u001b[38;5;241;43m.\u001b[39;49m\u001b[43mread_low_memory\u001b[49m\u001b[43m(\u001b[49m\u001b[43mnrows\u001b[49m\u001b[43m)\u001b[49m\n\u001b[1;32m    226\u001b[0m         \u001b[38;5;66;03m# destructive to chunks\u001b[39;00m\n\u001b[1;32m    227\u001b[0m         data \u001b[38;5;241m=\u001b[39m _concatenate_chunks(chunks)\n",
      "File \u001b[0;32m~/opt/anaconda3/lib/python3.9/site-packages/pandas/_libs/parsers.pyx:805\u001b[0m, in \u001b[0;36mpandas._libs.parsers.TextReader.read_low_memory\u001b[0;34m()\u001b[0m\n",
      "File \u001b[0;32m~/opt/anaconda3/lib/python3.9/site-packages/pandas/_libs/parsers.pyx:861\u001b[0m, in \u001b[0;36mpandas._libs.parsers.TextReader._read_rows\u001b[0;34m()\u001b[0m\n",
      "File \u001b[0;32m~/opt/anaconda3/lib/python3.9/site-packages/pandas/_libs/parsers.pyx:847\u001b[0m, in \u001b[0;36mpandas._libs.parsers.TextReader._tokenize_rows\u001b[0;34m()\u001b[0m\n",
      "File \u001b[0;32m~/opt/anaconda3/lib/python3.9/site-packages/pandas/_libs/parsers.pyx:1960\u001b[0m, in \u001b[0;36mpandas._libs.parsers.raise_parser_error\u001b[0;34m()\u001b[0m\n",
      "\u001b[0;31mParserError\u001b[0m: Error tokenizing data. C error: EOF inside string starting at row 131677"
     ]
    }
   ],
   "source": [
    "#Import crimestat csv file\n",
    "crimestat = pd.read_csv(\"crimestat (1).csv\")"
   ]
  },
  {
   "cell_type": "markdown",
   "id": "cd9283af",
   "metadata": {},
   "source": [
    "After googling the error and reading many threads, the following code was run. The file was imported successfully but one line of data was skipped."
   ]
  },
  {
   "cell_type": "code",
   "execution_count": 3,
   "id": "e8fa9fa4",
   "metadata": {},
   "outputs": [
    {
     "name": "stderr",
     "output_type": "stream",
     "text": [
      "/var/folders/56/2cm42rxn033c_4hqgns4gl5m0000gn/T/ipykernel_7345/3978119381.py:2: FutureWarning: The error_bad_lines argument has been deprecated and will be removed in a future version. Use on_bad_lines in the future.\n",
      "\n",
      "\n",
      "  crimestat = pd.read_csv(\"crimestat (1).csv\", encoding= \"utf8\", engine= \"python\", error_bad_lines=False)\n",
      "Skipping line 131678: unexpected end of data\n"
     ]
    }
   ],
   "source": [
    "#Import crimestat csv file with error_bad_lines=False\n",
    "crimestat = pd.read_csv(\"crimestat (1).csv\", encoding= \"utf8\", engine= \"python\", error_bad_lines=False)"
   ]
  },
  {
   "cell_type": "code",
   "execution_count": 4,
   "id": "8bb5ed3b",
   "metadata": {},
   "outputs": [
    {
     "data": {
      "text/html": [
       "<div>\n",
       "<style scoped>\n",
       "    .dataframe tbody tr th:only-of-type {\n",
       "        vertical-align: middle;\n",
       "    }\n",
       "\n",
       "    .dataframe tbody tr th {\n",
       "        vertical-align: top;\n",
       "    }\n",
       "\n",
       "    .dataframe thead th {\n",
       "        text-align: right;\n",
       "    }\n",
       "</style>\n",
       "<table border=\"1\" class=\"dataframe\">\n",
       "  <thead>\n",
       "    <tr style=\"text-align: right;\">\n",
       "      <th></th>\n",
       "      <th>INC NUMBER</th>\n",
       "      <th>OCCURRED ON</th>\n",
       "      <th>OCCURRED TO</th>\n",
       "      <th>UCR CRIME CATEGORY</th>\n",
       "      <th>100 BLOCK ADDR</th>\n",
       "      <th>ZIP</th>\n",
       "      <th>PREMISE TYPE</th>\n",
       "    </tr>\n",
       "  </thead>\n",
       "  <tbody>\n",
       "    <tr>\n",
       "      <th>0</th>\n",
       "      <td>201600000052855</td>\n",
       "      <td>11/01/2015  00:00</td>\n",
       "      <td>01/09/2016  00:00</td>\n",
       "      <td>MOTOR VEHICLE THEFT</td>\n",
       "      <td>N 43RD AVE &amp; W CACTUS RD</td>\n",
       "      <td>85029.0</td>\n",
       "      <td>SINGLE FAMILY HOUSE</td>\n",
       "    </tr>\n",
       "    <tr>\n",
       "      <th>1</th>\n",
       "      <td>201600000594484</td>\n",
       "      <td>11/01/2015  00:00</td>\n",
       "      <td>NaN</td>\n",
       "      <td>RAPE</td>\n",
       "      <td>13XX E ALMERIA RD</td>\n",
       "      <td>85006.0</td>\n",
       "      <td>SINGLE FAMILY HOUSE</td>\n",
       "    </tr>\n",
       "    <tr>\n",
       "      <th>2</th>\n",
       "      <td>201500002102327</td>\n",
       "      <td>11/01/2015  00:00</td>\n",
       "      <td>11/01/2015  09:00</td>\n",
       "      <td>LARCENY-THEFT</td>\n",
       "      <td>51XX N 15TH ST</td>\n",
       "      <td>85014.0</td>\n",
       "      <td>APARTMENT</td>\n",
       "    </tr>\n",
       "    <tr>\n",
       "      <th>3</th>\n",
       "      <td>201500002101405</td>\n",
       "      <td>11/01/2015  00:00</td>\n",
       "      <td>11/01/2015  05:00</td>\n",
       "      <td>MOTOR VEHICLE THEFT</td>\n",
       "      <td>102XX W MEDLOCK AVE</td>\n",
       "      <td>85307.0</td>\n",
       "      <td>SINGLE FAMILY HOUSE</td>\n",
       "    </tr>\n",
       "    <tr>\n",
       "      <th>4</th>\n",
       "      <td>201500002102668</td>\n",
       "      <td>11/01/2015  00:00</td>\n",
       "      <td>11/01/2015  11:50</td>\n",
       "      <td>MOTOR VEHICLE THEFT</td>\n",
       "      <td>69XX W WOOD ST</td>\n",
       "      <td>85043.0</td>\n",
       "      <td>SINGLE FAMILY HOUSE</td>\n",
       "    </tr>\n",
       "  </tbody>\n",
       "</table>\n",
       "</div>"
      ],
      "text/plain": [
       "        INC NUMBER        OCCURRED ON        OCCURRED TO   UCR CRIME CATEGORY  \\\n",
       "0  201600000052855  11/01/2015  00:00  01/09/2016  00:00  MOTOR VEHICLE THEFT   \n",
       "1  201600000594484  11/01/2015  00:00                NaN                 RAPE   \n",
       "2  201500002102327  11/01/2015  00:00  11/01/2015  09:00        LARCENY-THEFT   \n",
       "3  201500002101405  11/01/2015  00:00  11/01/2015  05:00  MOTOR VEHICLE THEFT   \n",
       "4  201500002102668  11/01/2015  00:00  11/01/2015  11:50  MOTOR VEHICLE THEFT   \n",
       "\n",
       "             100 BLOCK ADDR      ZIP         PREMISE TYPE  \n",
       "0  N 43RD AVE & W CACTUS RD  85029.0  SINGLE FAMILY HOUSE  \n",
       "1         13XX E ALMERIA RD  85006.0  SINGLE FAMILY HOUSE  \n",
       "2            51XX N 15TH ST  85014.0            APARTMENT  \n",
       "3       102XX W MEDLOCK AVE  85307.0  SINGLE FAMILY HOUSE  \n",
       "4            69XX W WOOD ST  85043.0  SINGLE FAMILY HOUSE  "
      ]
     },
     "execution_count": 4,
     "metadata": {},
     "output_type": "execute_result"
    }
   ],
   "source": [
    "#Display first five rows of data in data frame\n",
    "crimestat.head()"
   ]
  },
  {
   "attachments": {},
   "cell_type": "markdown",
   "id": "0cab8cdf",
   "metadata": {},
   "source": [
    "Next step is to run multiple lines of code on the data frame to see its shape, information, and various details to determine how to group and analyze the data."
   ]
  },
  {
   "cell_type": "code",
   "execution_count": 5,
   "id": "1f22715b",
   "metadata": {},
   "outputs": [
    {
     "data": {
      "text/plain": [
       "(131676, 7)"
      ]
     },
     "execution_count": 5,
     "metadata": {},
     "output_type": "execute_result"
    }
   ],
   "source": [
    "#Display shape of data frame\n",
    "crimestat.shape"
   ]
  },
  {
   "cell_type": "code",
   "execution_count": 6,
   "id": "a035c2e5",
   "metadata": {},
   "outputs": [
    {
     "name": "stdout",
     "output_type": "stream",
     "text": [
      "<class 'pandas.core.frame.DataFrame'>\n",
      "RangeIndex: 131676 entries, 0 to 131675\n",
      "Data columns (total 7 columns):\n",
      " #   Column              Non-Null Count   Dtype  \n",
      "---  ------              --------------   -----  \n",
      " 0   INC NUMBER          131676 non-null  object \n",
      " 1   OCCURRED ON         131360 non-null  object \n",
      " 2   OCCURRED TO         93174 non-null   object \n",
      " 3   UCR CRIME CATEGORY  131676 non-null  object \n",
      " 4   100 BLOCK ADDR      131676 non-null  object \n",
      " 5   ZIP                 131673 non-null  float64\n",
      " 6   PREMISE TYPE        130919 non-null  object \n",
      "dtypes: float64(1), object(6)\n",
      "memory usage: 7.0+ MB\n"
     ]
    }
   ],
   "source": [
    "#Display dataframe info\n",
    "crimestat.info()"
   ]
  },
  {
   "cell_type": "markdown",
   "id": "9a7f5fb6",
   "metadata": {},
   "source": [
    "The above code displays the columns of the data frame, the non-null values in each column, and the data type in each column. The INC NUMBER is the primary key for the data frame and is unique to each tuple, which is also seen in the results of the code ran below. The OCCURRED ON column contains 316 null values which means there are multiple incidents that do not of a date. The OCCURRED TO column contains even more null values. The UCR CRIME CATEGORY column and 100 BLOCK ADDR column do not contain any null values. The ZIP column contains 3 null values. The PREMISE TYPE column contains 757 null values. Depending on further analysis, these tuples might be dropped from the data frame."
   ]
  },
  {
   "cell_type": "code",
   "execution_count": 7,
   "id": "375c991e",
   "metadata": {},
   "outputs": [
    {
     "data": {
      "text/plain": [
       "INC NUMBER            131672\n",
       "OCCURRED ON            83137\n",
       "OCCURRED TO            66575\n",
       "UCR CRIME CATEGORY         9\n",
       "100 BLOCK ADDR         29254\n",
       "ZIP                       98\n",
       "PREMISE TYPE              93\n",
       "dtype: int64"
      ]
     },
     "execution_count": 7,
     "metadata": {},
     "output_type": "execute_result"
    }
   ],
   "source": [
    "#Display count of unique values in each feature\n",
    "crimestat.nunique()"
   ]
  },
  {
   "attachments": {},
   "cell_type": "markdown",
   "id": "cb197227",
   "metadata": {},
   "source": [
    "After reviewing the various outputs above, I will focus my analysis on the UCR CRIME CATEGORY, ZIP and OCCURRED ON columns. But, to get a better understanding of each column, the following code was run to see the quantity of values for each unique category."
   ]
  },
  {
   "cell_type": "code",
   "execution_count": 8,
   "id": "7f3102d9",
   "metadata": {},
   "outputs": [
    {
     "data": {
      "text/plain": [
       "LARCENY-THEFT                            66216\n",
       "BURGLARY                                 23647\n",
       "MOTOR VEHICLE THEFT                      14391\n",
       "DRUG OFFENSE                              9572\n",
       "AGGRAVATED ASSAULT                        9306\n",
       "ROBBERY                                   5640\n",
       "RAPE                                      1981\n",
       "ARSON                                      634\n",
       "MURDER AND NON-NEGLIGENT MANSLAUGHTER      289\n",
       "Name: UCR CRIME CATEGORY, dtype: int64"
      ]
     },
     "execution_count": 8,
     "metadata": {},
     "output_type": "execute_result"
    }
   ],
   "source": [
    "#Display count for each value in feature (Not Normalized)\n",
    "crimestat[\"UCR CRIME CATEGORY\"].value_counts()"
   ]
  },
  {
   "cell_type": "markdown",
   "id": "6b1a273b",
   "metadata": {},
   "source": [
    "By normalizing the data for the UCR CRIME CATEGORY, we can see that 50% of reported incidence within the data set is Larceny-theft. The lowest reported incident is Murder and Non-negligent manslaughter at 0.2%."
   ]
  },
  {
   "cell_type": "code",
   "execution_count": 9,
   "id": "7558280a",
   "metadata": {},
   "outputs": [
    {
     "data": {
      "text/plain": [
       "LARCENY-THEFT                            0.502871\n",
       "BURGLARY                                 0.179585\n",
       "MOTOR VEHICLE THEFT                      0.109291\n",
       "DRUG OFFENSE                             0.072694\n",
       "AGGRAVATED ASSAULT                       0.070673\n",
       "ROBBERY                                  0.042832\n",
       "RAPE                                     0.015045\n",
       "ARSON                                    0.004815\n",
       "MURDER AND NON-NEGLIGENT MANSLAUGHTER    0.002195\n",
       "Name: UCR CRIME CATEGORY, dtype: float64"
      ]
     },
     "execution_count": 9,
     "metadata": {},
     "output_type": "execute_result"
    }
   ],
   "source": [
    "#Display count for each value in feature (Normalized)\n",
    "crimestat[\"UCR CRIME CATEGORY\"].value_counts(normalize=True)"
   ]
  },
  {
   "cell_type": "code",
   "execution_count": 10,
   "id": "7b8b2b8d",
   "metadata": {},
   "outputs": [
    {
     "data": {
      "text/plain": [
       "85015.0    6963\n",
       "85008.0    6320\n",
       "85009.0    5513\n",
       "85041.0    5477\n",
       "85051.0    5389\n",
       "           ... \n",
       "85203.0       1\n",
       "85266.0       1\n",
       "85381.0       1\n",
       "85268.0       1\n",
       "85212.0       1\n",
       "Name: ZIP, Length: 98, dtype: int64"
      ]
     },
     "execution_count": 10,
     "metadata": {},
     "output_type": "execute_result"
    }
   ],
   "source": [
    "#Display count for each value in feature (Not Normalized)\n",
    "crimestat[\"ZIP\"].value_counts()"
   ]
  },
  {
   "cell_type": "code",
   "execution_count": 11,
   "id": "0d321f3b",
   "metadata": {},
   "outputs": [
    {
     "data": {
      "text/plain": [
       "85015.0    0.052881\n",
       "85008.0    0.047998\n",
       "85009.0    0.041869\n",
       "85041.0    0.041595\n",
       "85051.0    0.040927\n",
       "             ...   \n",
       "85203.0    0.000008\n",
       "85266.0    0.000008\n",
       "85381.0    0.000008\n",
       "85268.0    0.000008\n",
       "85212.0    0.000008\n",
       "Name: ZIP, Length: 98, dtype: float64"
      ]
     },
     "execution_count": 11,
     "metadata": {},
     "output_type": "execute_result"
    }
   ],
   "source": [
    "#Display count for each value in feature (Normalized)\n",
    "crimestat[\"ZIP\"].value_counts(normalize=True)"
   ]
  },
  {
   "cell_type": "markdown",
   "id": "e5a9d6e8",
   "metadata": {},
   "source": [
    "To get a better understanding of when all these crimes are occurring, the year for each incident is pulled out and placed into its own column."
   ]
  },
  {
   "cell_type": "code",
   "execution_count": 12,
   "id": "f3219685",
   "metadata": {},
   "outputs": [],
   "source": [
    "#Defining a function that will return the year out of the OCCURRED ON column\n",
    "def year_output(date_object):\n",
    "    new_date_object = str(date_object)\n",
    "    return new_date_object[6:10]"
   ]
  },
  {
   "cell_type": "code",
   "execution_count": 13,
   "id": "2d9eb344",
   "metadata": {},
   "outputs": [],
   "source": [
    "#Applying defined function above to dataframe and creating a new column in data frame\n",
    "crimestat['year'] = crimestat['OCCURRED ON'].apply(year_output)"
   ]
  },
  {
   "cell_type": "code",
   "execution_count": 14,
   "id": "bbacaa96",
   "metadata": {},
   "outputs": [
    {
     "data": {
      "text/html": [
       "<div>\n",
       "<style scoped>\n",
       "    .dataframe tbody tr th:only-of-type {\n",
       "        vertical-align: middle;\n",
       "    }\n",
       "\n",
       "    .dataframe tbody tr th {\n",
       "        vertical-align: top;\n",
       "    }\n",
       "\n",
       "    .dataframe thead th {\n",
       "        text-align: right;\n",
       "    }\n",
       "</style>\n",
       "<table border=\"1\" class=\"dataframe\">\n",
       "  <thead>\n",
       "    <tr style=\"text-align: right;\">\n",
       "      <th></th>\n",
       "      <th>INC NUMBER</th>\n",
       "      <th>OCCURRED ON</th>\n",
       "      <th>OCCURRED TO</th>\n",
       "      <th>UCR CRIME CATEGORY</th>\n",
       "      <th>100 BLOCK ADDR</th>\n",
       "      <th>ZIP</th>\n",
       "      <th>PREMISE TYPE</th>\n",
       "      <th>year</th>\n",
       "    </tr>\n",
       "  </thead>\n",
       "  <tbody>\n",
       "    <tr>\n",
       "      <th>0</th>\n",
       "      <td>201600000052855</td>\n",
       "      <td>11/01/2015  00:00</td>\n",
       "      <td>01/09/2016  00:00</td>\n",
       "      <td>MOTOR VEHICLE THEFT</td>\n",
       "      <td>N 43RD AVE &amp; W CACTUS RD</td>\n",
       "      <td>85029.0</td>\n",
       "      <td>SINGLE FAMILY HOUSE</td>\n",
       "      <td>2015</td>\n",
       "    </tr>\n",
       "    <tr>\n",
       "      <th>1</th>\n",
       "      <td>201600000594484</td>\n",
       "      <td>11/01/2015  00:00</td>\n",
       "      <td>NaN</td>\n",
       "      <td>RAPE</td>\n",
       "      <td>13XX E ALMERIA RD</td>\n",
       "      <td>85006.0</td>\n",
       "      <td>SINGLE FAMILY HOUSE</td>\n",
       "      <td>2015</td>\n",
       "    </tr>\n",
       "    <tr>\n",
       "      <th>2</th>\n",
       "      <td>201500002102327</td>\n",
       "      <td>11/01/2015  00:00</td>\n",
       "      <td>11/01/2015  09:00</td>\n",
       "      <td>LARCENY-THEFT</td>\n",
       "      <td>51XX N 15TH ST</td>\n",
       "      <td>85014.0</td>\n",
       "      <td>APARTMENT</td>\n",
       "      <td>2015</td>\n",
       "    </tr>\n",
       "    <tr>\n",
       "      <th>3</th>\n",
       "      <td>201500002101405</td>\n",
       "      <td>11/01/2015  00:00</td>\n",
       "      <td>11/01/2015  05:00</td>\n",
       "      <td>MOTOR VEHICLE THEFT</td>\n",
       "      <td>102XX W MEDLOCK AVE</td>\n",
       "      <td>85307.0</td>\n",
       "      <td>SINGLE FAMILY HOUSE</td>\n",
       "      <td>2015</td>\n",
       "    </tr>\n",
       "    <tr>\n",
       "      <th>4</th>\n",
       "      <td>201500002102668</td>\n",
       "      <td>11/01/2015  00:00</td>\n",
       "      <td>11/01/2015  11:50</td>\n",
       "      <td>MOTOR VEHICLE THEFT</td>\n",
       "      <td>69XX W WOOD ST</td>\n",
       "      <td>85043.0</td>\n",
       "      <td>SINGLE FAMILY HOUSE</td>\n",
       "      <td>2015</td>\n",
       "    </tr>\n",
       "    <tr>\n",
       "      <th>...</th>\n",
       "      <td>...</td>\n",
       "      <td>...</td>\n",
       "      <td>...</td>\n",
       "      <td>...</td>\n",
       "      <td>...</td>\n",
       "      <td>...</td>\n",
       "      <td>...</td>\n",
       "      <td>...</td>\n",
       "    </tr>\n",
       "    <tr>\n",
       "      <th>131671</th>\n",
       "      <td>201700002024419</td>\n",
       "      <td>11/17/2017  04:00</td>\n",
       "      <td>11/17/2017  04:06</td>\n",
       "      <td>BURGLARY</td>\n",
       "      <td>22XX E BROADWAY RD</td>\n",
       "      <td>85040.0</td>\n",
       "      <td>DEPARTMENT / DISCOUNT STORE</td>\n",
       "      <td>2017</td>\n",
       "    </tr>\n",
       "    <tr>\n",
       "      <th>131672</th>\n",
       "      <td>201700002027239</td>\n",
       "      <td>11/17/2017  04:15</td>\n",
       "      <td>11/17/2017  04:30</td>\n",
       "      <td>LARCENY-THEFT</td>\n",
       "      <td>16XX E INDIAN SCHOOL RD</td>\n",
       "      <td>85016.0</td>\n",
       "      <td>CONVENIENCE MARKET / STORE</td>\n",
       "      <td>2017</td>\n",
       "    </tr>\n",
       "    <tr>\n",
       "      <th>131673</th>\n",
       "      <td>201700002025582</td>\n",
       "      <td>11/17/2017  05:00</td>\n",
       "      <td>11/17/2017  09:50</td>\n",
       "      <td>MOTOR VEHICLE THEFT</td>\n",
       "      <td>43XX N 103RD AVE</td>\n",
       "      <td>85037.0</td>\n",
       "      <td>APARTMENT</td>\n",
       "      <td>2017</td>\n",
       "    </tr>\n",
       "    <tr>\n",
       "      <th>131674</th>\n",
       "      <td>201700002024523</td>\n",
       "      <td>11/17/2017  05:34</td>\n",
       "      <td>NaN</td>\n",
       "      <td>AGGRAVATED ASSAULT</td>\n",
       "      <td>8XX N 59TH AVE</td>\n",
       "      <td>85043.0</td>\n",
       "      <td>ABANDONED/CONDEMNED STRUCTURE</td>\n",
       "      <td>2017</td>\n",
       "    </tr>\n",
       "    <tr>\n",
       "      <th>131675</th>\n",
       "      <td>201700002030009</td>\n",
       "      <td>11/17/2017  05:50</td>\n",
       "      <td>11/17/2017  07:50</td>\n",
       "      <td>BURGLARY</td>\n",
       "      <td>51XX N 39TH DR</td>\n",
       "      <td>85019.0</td>\n",
       "      <td>SINGLE FAMILY HOUSE</td>\n",
       "      <td>2017</td>\n",
       "    </tr>\n",
       "  </tbody>\n",
       "</table>\n",
       "<p>131676 rows × 8 columns</p>\n",
       "</div>"
      ],
      "text/plain": [
       "             INC NUMBER        OCCURRED ON        OCCURRED TO  \\\n",
       "0       201600000052855  11/01/2015  00:00  01/09/2016  00:00   \n",
       "1       201600000594484  11/01/2015  00:00                NaN   \n",
       "2       201500002102327  11/01/2015  00:00  11/01/2015  09:00   \n",
       "3       201500002101405  11/01/2015  00:00  11/01/2015  05:00   \n",
       "4       201500002102668  11/01/2015  00:00  11/01/2015  11:50   \n",
       "...                 ...                ...                ...   \n",
       "131671  201700002024419  11/17/2017  04:00  11/17/2017  04:06   \n",
       "131672  201700002027239  11/17/2017  04:15  11/17/2017  04:30   \n",
       "131673  201700002025582  11/17/2017  05:00  11/17/2017  09:50   \n",
       "131674  201700002024523  11/17/2017  05:34                NaN   \n",
       "131675  201700002030009  11/17/2017  05:50  11/17/2017  07:50   \n",
       "\n",
       "         UCR CRIME CATEGORY            100 BLOCK ADDR      ZIP  \\\n",
       "0       MOTOR VEHICLE THEFT  N 43RD AVE & W CACTUS RD  85029.0   \n",
       "1                      RAPE         13XX E ALMERIA RD  85006.0   \n",
       "2             LARCENY-THEFT            51XX N 15TH ST  85014.0   \n",
       "3       MOTOR VEHICLE THEFT       102XX W MEDLOCK AVE  85307.0   \n",
       "4       MOTOR VEHICLE THEFT            69XX W WOOD ST  85043.0   \n",
       "...                     ...                       ...      ...   \n",
       "131671             BURGLARY        22XX E BROADWAY RD  85040.0   \n",
       "131672        LARCENY-THEFT   16XX E INDIAN SCHOOL RD  85016.0   \n",
       "131673  MOTOR VEHICLE THEFT          43XX N 103RD AVE  85037.0   \n",
       "131674   AGGRAVATED ASSAULT            8XX N 59TH AVE  85043.0   \n",
       "131675             BURGLARY            51XX N 39TH DR  85019.0   \n",
       "\n",
       "                         PREMISE TYPE  year  \n",
       "0                 SINGLE FAMILY HOUSE  2015  \n",
       "1                 SINGLE FAMILY HOUSE  2015  \n",
       "2                           APARTMENT  2015  \n",
       "3                 SINGLE FAMILY HOUSE  2015  \n",
       "4                 SINGLE FAMILY HOUSE  2015  \n",
       "...                               ...   ...  \n",
       "131671    DEPARTMENT / DISCOUNT STORE  2017  \n",
       "131672     CONVENIENCE MARKET / STORE  2017  \n",
       "131673                      APARTMENT  2017  \n",
       "131674  ABANDONED/CONDEMNED STRUCTURE  2017  \n",
       "131675            SINGLE FAMILY HOUSE  2017  \n",
       "\n",
       "[131676 rows x 8 columns]"
      ]
     },
     "execution_count": 14,
     "metadata": {},
     "output_type": "execute_result"
    }
   ],
   "source": [
    "#Display data frame\n",
    "crimestat"
   ]
  },
  {
   "cell_type": "code",
   "execution_count": 15,
   "id": "382f88e2",
   "metadata": {},
   "outputs": [
    {
     "data": {
      "text/plain": [
       "2016    63226\n",
       "2017    58010\n",
       "2015    10124\n",
       "          316\n",
       "Name: year, dtype: int64"
      ]
     },
     "execution_count": 15,
     "metadata": {},
     "output_type": "execute_result"
    }
   ],
   "source": [
    "#Display count for each value in feature (Not Normalized)\n",
    "crimestat[\"year\"].value_counts()"
   ]
  },
  {
   "cell_type": "code",
   "execution_count": 16,
   "id": "81294536",
   "metadata": {},
   "outputs": [
    {
     "data": {
      "text/plain": [
       "2016    0.480163\n",
       "2017    0.440551\n",
       "2015    0.076886\n",
       "        0.002400\n",
       "Name: year, dtype: float64"
      ]
     },
     "execution_count": 16,
     "metadata": {},
     "output_type": "execute_result"
    }
   ],
   "source": [
    "#Display count for each value in feature (Normalized)\n",
    "crimestat[\"year\"].value_counts(normalize=True)"
   ]
  },
  {
   "cell_type": "code",
   "execution_count": 17,
   "id": "6233f95a",
   "metadata": {},
   "outputs": [
    {
     "data": {
      "text/plain": [
       "<AxesSubplot:>"
      ]
     },
     "execution_count": 17,
     "metadata": {},
     "output_type": "execute_result"
    },
    {
     "data": {
      "image/png": "[encoded data removed]",
      "text/plain": [
       "<Figure size 432x288 with 1 Axes>"
      ]
     },
     "metadata": {
      "needs_background": "light"
     },
     "output_type": "display_data"
    }
   ],
   "source": [
    "#Display bar graph of count for each value in feature (Normalized)\n",
    "crimestat[\"year\"].value_counts(normalize=True).plot.bar(sort_columns=True)"
   ]
  },
  {
   "cell_type": "markdown",
   "id": "9a6537f2",
   "metadata": {},
   "source": [
    "There is a lot of null data, this data is being dropped from the data frame and saved into a new data frame."
   ]
  },
  {
   "cell_type": "code",
   "execution_count": 18,
   "id": "60ddc3bd",
   "metadata": {},
   "outputs": [],
   "source": [
    "#Drop null values and save results into new data frame\n",
    "crimestat_no_null = crimestat.dropna().copy()"
   ]
  },
  {
   "cell_type": "code",
   "execution_count": 19,
   "id": "213c2f26",
   "metadata": {},
   "outputs": [
    {
     "name": "stdout",
     "output_type": "stream",
     "text": [
      "<class 'pandas.core.frame.DataFrame'>\n",
      "Int64Index: 92351 entries, 0 to 131675\n",
      "Data columns (total 8 columns):\n",
      " #   Column              Non-Null Count  Dtype  \n",
      "---  ------              --------------  -----  \n",
      " 0   INC NUMBER          92351 non-null  object \n",
      " 1   OCCURRED ON         92351 non-null  object \n",
      " 2   OCCURRED TO         92351 non-null  object \n",
      " 3   UCR CRIME CATEGORY  92351 non-null  object \n",
      " 4   100 BLOCK ADDR      92351 non-null  object \n",
      " 5   ZIP                 92351 non-null  float64\n",
      " 6   PREMISE TYPE        92351 non-null  object \n",
      " 7   year                92351 non-null  object \n",
      "dtypes: float64(1), object(7)\n",
      "memory usage: 6.3+ MB\n"
     ]
    }
   ],
   "source": [
    "#Display data frame information\n",
    "crimestat_no_null.info()"
   ]
  },
  {
   "cell_type": "code",
   "execution_count": 20,
   "id": "a19bfe97",
   "metadata": {},
   "outputs": [],
   "source": [
    "#Applying defined function above to dataframe and creating a new column in data frame\n",
    "crimestat_no_null['year'] = crimestat_no_null['OCCURRED ON'].apply(year_output)"
   ]
  },
  {
   "cell_type": "code",
   "execution_count": 21,
   "id": "d41e4b1d",
   "metadata": {},
   "outputs": [
    {
     "data": {
      "text/html": [
       "<div>\n",
       "<style scoped>\n",
       "    .dataframe tbody tr th:only-of-type {\n",
       "        vertical-align: middle;\n",
       "    }\n",
       "\n",
       "    .dataframe tbody tr th {\n",
       "        vertical-align: top;\n",
       "    }\n",
       "\n",
       "    .dataframe thead th {\n",
       "        text-align: right;\n",
       "    }\n",
       "</style>\n",
       "<table border=\"1\" class=\"dataframe\">\n",
       "  <thead>\n",
       "    <tr style=\"text-align: right;\">\n",
       "      <th></th>\n",
       "      <th>INC NUMBER</th>\n",
       "      <th>OCCURRED ON</th>\n",
       "      <th>OCCURRED TO</th>\n",
       "      <th>UCR CRIME CATEGORY</th>\n",
       "      <th>100 BLOCK ADDR</th>\n",
       "      <th>ZIP</th>\n",
       "      <th>PREMISE TYPE</th>\n",
       "      <th>year</th>\n",
       "    </tr>\n",
       "  </thead>\n",
       "  <tbody>\n",
       "    <tr>\n",
       "      <th>0</th>\n",
       "      <td>201600000052855</td>\n",
       "      <td>11/01/2015  00:00</td>\n",
       "      <td>01/09/2016  00:00</td>\n",
       "      <td>MOTOR VEHICLE THEFT</td>\n",
       "      <td>N 43RD AVE &amp; W CACTUS RD</td>\n",
       "      <td>85029.0</td>\n",
       "      <td>SINGLE FAMILY HOUSE</td>\n",
       "      <td>2015</td>\n",
       "    </tr>\n",
       "    <tr>\n",
       "      <th>2</th>\n",
       "      <td>201500002102327</td>\n",
       "      <td>11/01/2015  00:00</td>\n",
       "      <td>11/01/2015  09:00</td>\n",
       "      <td>LARCENY-THEFT</td>\n",
       "      <td>51XX N 15TH ST</td>\n",
       "      <td>85014.0</td>\n",
       "      <td>APARTMENT</td>\n",
       "      <td>2015</td>\n",
       "    </tr>\n",
       "    <tr>\n",
       "      <th>3</th>\n",
       "      <td>201500002101405</td>\n",
       "      <td>11/01/2015  00:00</td>\n",
       "      <td>11/01/2015  05:00</td>\n",
       "      <td>MOTOR VEHICLE THEFT</td>\n",
       "      <td>102XX W MEDLOCK AVE</td>\n",
       "      <td>85307.0</td>\n",
       "      <td>SINGLE FAMILY HOUSE</td>\n",
       "      <td>2015</td>\n",
       "    </tr>\n",
       "    <tr>\n",
       "      <th>4</th>\n",
       "      <td>201500002102668</td>\n",
       "      <td>11/01/2015  00:00</td>\n",
       "      <td>11/01/2015  11:50</td>\n",
       "      <td>MOTOR VEHICLE THEFT</td>\n",
       "      <td>69XX W WOOD ST</td>\n",
       "      <td>85043.0</td>\n",
       "      <td>SINGLE FAMILY HOUSE</td>\n",
       "      <td>2015</td>\n",
       "    </tr>\n",
       "    <tr>\n",
       "      <th>5</th>\n",
       "      <td>201600000527709</td>\n",
       "      <td>11/01/2015  00:00</td>\n",
       "      <td>03/22/2016  00:36</td>\n",
       "      <td>LARCENY-THEFT</td>\n",
       "      <td>33XX W CAMELBACK RD</td>\n",
       "      <td>85017.0</td>\n",
       "      <td>PARKING LOT</td>\n",
       "      <td>2015</td>\n",
       "    </tr>\n",
       "    <tr>\n",
       "      <th>...</th>\n",
       "      <td>...</td>\n",
       "      <td>...</td>\n",
       "      <td>...</td>\n",
       "      <td>...</td>\n",
       "      <td>...</td>\n",
       "      <td>...</td>\n",
       "      <td>...</td>\n",
       "      <td>...</td>\n",
       "    </tr>\n",
       "    <tr>\n",
       "      <th>131670</th>\n",
       "      <td>201700002024346</td>\n",
       "      <td>11/17/2017  03:19</td>\n",
       "      <td>11/17/2017  03:19</td>\n",
       "      <td>DRUG OFFENSE</td>\n",
       "      <td>41XX N 27TH AVE</td>\n",
       "      <td>85017.0</td>\n",
       "      <td>VEHICLE</td>\n",
       "      <td>2017</td>\n",
       "    </tr>\n",
       "    <tr>\n",
       "      <th>131671</th>\n",
       "      <td>201700002024419</td>\n",
       "      <td>11/17/2017  04:00</td>\n",
       "      <td>11/17/2017  04:06</td>\n",
       "      <td>BURGLARY</td>\n",
       "      <td>22XX E BROADWAY RD</td>\n",
       "      <td>85040.0</td>\n",
       "      <td>DEPARTMENT / DISCOUNT STORE</td>\n",
       "      <td>2017</td>\n",
       "    </tr>\n",
       "    <tr>\n",
       "      <th>131672</th>\n",
       "      <td>201700002027239</td>\n",
       "      <td>11/17/2017  04:15</td>\n",
       "      <td>11/17/2017  04:30</td>\n",
       "      <td>LARCENY-THEFT</td>\n",
       "      <td>16XX E INDIAN SCHOOL RD</td>\n",
       "      <td>85016.0</td>\n",
       "      <td>CONVENIENCE MARKET / STORE</td>\n",
       "      <td>2017</td>\n",
       "    </tr>\n",
       "    <tr>\n",
       "      <th>131673</th>\n",
       "      <td>201700002025582</td>\n",
       "      <td>11/17/2017  05:00</td>\n",
       "      <td>11/17/2017  09:50</td>\n",
       "      <td>MOTOR VEHICLE THEFT</td>\n",
       "      <td>43XX N 103RD AVE</td>\n",
       "      <td>85037.0</td>\n",
       "      <td>APARTMENT</td>\n",
       "      <td>2017</td>\n",
       "    </tr>\n",
       "    <tr>\n",
       "      <th>131675</th>\n",
       "      <td>201700002030009</td>\n",
       "      <td>11/17/2017  05:50</td>\n",
       "      <td>11/17/2017  07:50</td>\n",
       "      <td>BURGLARY</td>\n",
       "      <td>51XX N 39TH DR</td>\n",
       "      <td>85019.0</td>\n",
       "      <td>SINGLE FAMILY HOUSE</td>\n",
       "      <td>2017</td>\n",
       "    </tr>\n",
       "  </tbody>\n",
       "</table>\n",
       "<p>92351 rows × 8 columns</p>\n",
       "</div>"
      ],
      "text/plain": [
       "             INC NUMBER        OCCURRED ON        OCCURRED TO  \\\n",
       "0       201600000052855  11/01/2015  00:00  01/09/2016  00:00   \n",
       "2       201500002102327  11/01/2015  00:00  11/01/2015  09:00   \n",
       "3       201500002101405  11/01/2015  00:00  11/01/2015  05:00   \n",
       "4       201500002102668  11/01/2015  00:00  11/01/2015  11:50   \n",
       "5       201600000527709  11/01/2015  00:00  03/22/2016  00:36   \n",
       "...                 ...                ...                ...   \n",
       "131670  201700002024346  11/17/2017  03:19  11/17/2017  03:19   \n",
       "131671  201700002024419  11/17/2017  04:00  11/17/2017  04:06   \n",
       "131672  201700002027239  11/17/2017  04:15  11/17/2017  04:30   \n",
       "131673  201700002025582  11/17/2017  05:00  11/17/2017  09:50   \n",
       "131675  201700002030009  11/17/2017  05:50  11/17/2017  07:50   \n",
       "\n",
       "         UCR CRIME CATEGORY            100 BLOCK ADDR      ZIP  \\\n",
       "0       MOTOR VEHICLE THEFT  N 43RD AVE & W CACTUS RD  85029.0   \n",
       "2             LARCENY-THEFT            51XX N 15TH ST  85014.0   \n",
       "3       MOTOR VEHICLE THEFT       102XX W MEDLOCK AVE  85307.0   \n",
       "4       MOTOR VEHICLE THEFT            69XX W WOOD ST  85043.0   \n",
       "5             LARCENY-THEFT       33XX W CAMELBACK RD  85017.0   \n",
       "...                     ...                       ...      ...   \n",
       "131670         DRUG OFFENSE           41XX N 27TH AVE  85017.0   \n",
       "131671             BURGLARY        22XX E BROADWAY RD  85040.0   \n",
       "131672        LARCENY-THEFT   16XX E INDIAN SCHOOL RD  85016.0   \n",
       "131673  MOTOR VEHICLE THEFT          43XX N 103RD AVE  85037.0   \n",
       "131675             BURGLARY            51XX N 39TH DR  85019.0   \n",
       "\n",
       "                       PREMISE TYPE  year  \n",
       "0               SINGLE FAMILY HOUSE  2015  \n",
       "2                         APARTMENT  2015  \n",
       "3               SINGLE FAMILY HOUSE  2015  \n",
       "4               SINGLE FAMILY HOUSE  2015  \n",
       "5                       PARKING LOT  2015  \n",
       "...                             ...   ...  \n",
       "131670                      VEHICLE  2017  \n",
       "131671  DEPARTMENT / DISCOUNT STORE  2017  \n",
       "131672   CONVENIENCE MARKET / STORE  2017  \n",
       "131673                    APARTMENT  2017  \n",
       "131675          SINGLE FAMILY HOUSE  2017  \n",
       "\n",
       "[92351 rows x 8 columns]"
      ]
     },
     "execution_count": 21,
     "metadata": {},
     "output_type": "execute_result"
    }
   ],
   "source": [
    "#Display data frame\n",
    "crimestat_no_null"
   ]
  },
  {
   "cell_type": "code",
   "execution_count": 22,
   "id": "c6ac798b",
   "metadata": {},
   "outputs": [
    {
     "data": {
      "text/plain": [
       "<AxesSubplot:>"
      ]
     },
     "execution_count": 22,
     "metadata": {},
     "output_type": "execute_result"
    },
    {
     "data": {
      "image/png": "[encoded data removed]",
      "text/plain": [
       "<Figure size 432x288 with 1 Axes>"
      ]
     },
     "metadata": {
      "needs_background": "light"
     },
     "output_type": "display_data"
    }
   ],
   "source": [
    "#Display bar graph of count for each value in feature (Normalized)\n",
    "crimestat_no_null[\"year\"].value_counts(normalize=True).plot.bar(sort_columns=True)"
   ]
  },
  {
   "cell_type": "code",
   "execution_count": 23,
   "id": "915cdd42",
   "metadata": {},
   "outputs": [],
   "source": [
    "#Group data into a new data frame\n",
    "crimestat_type_no_null = crimestat_no_null.groupby(['UCR CRIME CATEGORY'])"
   ]
  },
  {
   "cell_type": "code",
   "execution_count": 24,
   "id": "c7d078c0",
   "metadata": {},
   "outputs": [
    {
     "data": {
      "text/plain": [
       "UCR CRIME CATEGORY                     year\n",
       "AGGRAVATED ASSAULT                     2017    0.495458\n",
       "                                       2016    0.432526\n",
       "                                       2015    0.072016\n",
       "ARSON                                  2017    0.456853\n",
       "                                       2016    0.441624\n",
       "                                       2015    0.101523\n",
       "BURGLARY                               2016    0.483056\n",
       "                                       2017    0.429394\n",
       "                                       2015    0.087551\n",
       "DRUG OFFENSE                           2016    0.477955\n",
       "                                       2017    0.431160\n",
       "                                       2015    0.090885\n",
       "LARCENY-THEFT                          2016    0.482652\n",
       "                                       2017    0.440305\n",
       "                                       2015    0.077043\n",
       "MOTOR VEHICLE THEFT                    2016    0.503339\n",
       "                                       2017    0.412866\n",
       "                                       2015    0.083795\n",
       "MURDER AND NON-NEGLIGENT MANSLAUGHTER  2017    0.469072\n",
       "                                       2016    0.438144\n",
       "                                       2015    0.092784\n",
       "RAPE                                   2016    0.474058\n",
       "                                       2017    0.467662\n",
       "                                       2015    0.058280\n",
       "ROBBERY                                2017    0.472275\n",
       "                                       2016    0.454545\n",
       "                                       2015    0.073180\n",
       "Name: year, dtype: float64"
      ]
     },
     "execution_count": 24,
     "metadata": {},
     "output_type": "execute_result"
    }
   ],
   "source": [
    "#Display count for each value in feature (Normalized)\n",
    "crimestat_type_no_null[\"year\"].value_counts(normalize=True)"
   ]
  },
  {
   "cell_type": "code",
   "execution_count": 25,
   "id": "e7bf70e0",
   "metadata": {},
   "outputs": [],
   "source": [
    "#Group data into a new data frame\n",
    "year_crime = crimestat_no_null.groupby(['year'])"
   ]
  },
  {
   "cell_type": "code",
   "execution_count": 26,
   "id": "0c127a2e",
   "metadata": {},
   "outputs": [
    {
     "data": {
      "text/plain": [
       "year  UCR CRIME CATEGORY                   \n",
       "2015  LARCENY-THEFT                             3646\n",
       "      BURGLARY                                  1749\n",
       "      MOTOR VEHICLE THEFT                       1029\n",
       "      DRUG OFFENSE                               336\n",
       "      AGGRAVATED ASSAULT                         333\n",
       "      ROBBERY                                    194\n",
       "      RAPE                                        82\n",
       "      ARSON                                       20\n",
       "      MURDER AND NON-NEGLIGENT MANSLAUGHTER       18\n",
       "2016  LARCENY-THEFT                            22841\n",
       "      BURGLARY                                  9650\n",
       "      MOTOR VEHICLE THEFT                       6181\n",
       "      AGGRAVATED ASSAULT                        2000\n",
       "      DRUG OFFENSE                              1767\n",
       "      ROBBERY                                   1205\n",
       "      RAPE                                       667\n",
       "      ARSON                                       87\n",
       "      MURDER AND NON-NEGLIGENT MANSLAUGHTER       85\n",
       "2017  LARCENY-THEFT                            20837\n",
       "      BURGLARY                                  8578\n",
       "      MOTOR VEHICLE THEFT                       5070\n",
       "      AGGRAVATED ASSAULT                        2291\n",
       "      DRUG OFFENSE                              1594\n",
       "      ROBBERY                                   1252\n",
       "      RAPE                                       658\n",
       "      MURDER AND NON-NEGLIGENT MANSLAUGHTER       91\n",
       "      ARSON                                       90\n",
       "Name: UCR CRIME CATEGORY, dtype: int64"
      ]
     },
     "execution_count": 26,
     "metadata": {},
     "output_type": "execute_result"
    }
   ],
   "source": [
    "#Display count for each value in feature (Not Normalized)\n",
    "year_crime[\"UCR CRIME CATEGORY\"].value_counts()"
   ]
  },
  {
   "cell_type": "code",
   "execution_count": 27,
   "id": "859d2d8a",
   "metadata": {},
   "outputs": [
    {
     "data": {
      "text/plain": [
       "year  UCR CRIME CATEGORY                   \n",
       "2015  LARCENY-THEFT                            0.492237\n",
       "      BURGLARY                                 0.236128\n",
       "      MOTOR VEHICLE THEFT                      0.138923\n",
       "      DRUG OFFENSE                             0.045362\n",
       "      AGGRAVATED ASSAULT                       0.044957\n",
       "      ROBBERY                                  0.026191\n",
       "      RAPE                                     0.011071\n",
       "      ARSON                                    0.002700\n",
       "      MURDER AND NON-NEGLIGENT MANSLAUGHTER    0.002430\n",
       "2016  LARCENY-THEFT                            0.513477\n",
       "      BURGLARY                                 0.216937\n",
       "      MOTOR VEHICLE THEFT                      0.138952\n",
       "      AGGRAVATED ASSAULT                       0.044961\n",
       "      DRUG OFFENSE                             0.039723\n",
       "      ROBBERY                                  0.027089\n",
       "      RAPE                                     0.014994\n",
       "      ARSON                                    0.001956\n",
       "      MURDER AND NON-NEGLIGENT MANSLAUGHTER    0.001911\n",
       "2017  LARCENY-THEFT                            0.514990\n",
       "      BURGLARY                                 0.212007\n",
       "      MOTOR VEHICLE THEFT                      0.125306\n",
       "      AGGRAVATED ASSAULT                       0.056622\n",
       "      DRUG OFFENSE                             0.039396\n",
       "      ROBBERY                                  0.030943\n",
       "      RAPE                                     0.016263\n",
       "      MURDER AND NON-NEGLIGENT MANSLAUGHTER    0.002249\n",
       "      ARSON                                    0.002224\n",
       "Name: UCR CRIME CATEGORY, dtype: float64"
      ]
     },
     "execution_count": 27,
     "metadata": {},
     "output_type": "execute_result"
    }
   ],
   "source": [
    "#Display count for each value in feature (Normalized)\n",
    "year_crime[\"UCR CRIME CATEGORY\"].value_counts(normalize=True)"
   ]
  },
  {
   "cell_type": "code",
   "execution_count": 28,
   "id": "383d06af",
   "metadata": {},
   "outputs": [
    {
     "data": {
      "text/plain": [
       "year  ZIP    \n",
       "2015  85015.0    351\n",
       "      85051.0    348\n",
       "      85041.0    319\n",
       "      85008.0    310\n",
       "      85009.0    301\n",
       "                ... \n",
       "2017  85305.0      1\n",
       "      85326.0      1\n",
       "      85337.0      1\n",
       "      85383.0      1\n",
       "      85392.0      1\n",
       "Name: ZIP, Length: 219, dtype: int64"
      ]
     },
     "execution_count": 28,
     "metadata": {},
     "output_type": "execute_result"
    }
   ],
   "source": [
    "#Display count for each value in feature (Not Normalized)\n",
    "year_crime[\"ZIP\"].value_counts()"
   ]
  },
  {
   "cell_type": "code",
   "execution_count": 29,
   "id": "fdba765d",
   "metadata": {},
   "outputs": [],
   "source": [
    "#Group data into a new data frame\n",
    "zip_crime = crimestat_no_null.groupby(['ZIP'])"
   ]
  },
  {
   "cell_type": "code",
   "execution_count": 30,
   "id": "76845a2f",
   "metadata": {
    "scrolled": false
   },
   "outputs": [
    {
     "data": {
      "text/plain": [
       "ZIP      UCR CRIME CATEGORY \n",
       "85003.0  LARCENY-THEFT          537\n",
       "         BURGLARY               145\n",
       "         MOTOR VEHICLE THEFT    105\n",
       "         DRUG OFFENSE            78\n",
       "         AGGRAVATED ASSAULT      58\n",
       "                               ... \n",
       "85392.0  AGGRAVATED ASSAULT       1\n",
       "85395.0  AGGRAVATED ASSAULT       1\n",
       "85396.0  BURGLARY                 1\n",
       "         LARCENY-THEFT            1\n",
       "         MOTOR VEHICLE THEFT      1\n",
       "Name: UCR CRIME CATEGORY, Length: 523, dtype: int64"
      ]
     },
     "execution_count": 30,
     "metadata": {},
     "output_type": "execute_result"
    }
   ],
   "source": [
    "#Display count for each value in feature (Not Normalized)\n",
    "zip_crime[\"UCR CRIME CATEGORY\"].value_counts()"
   ]
  },
  {
   "cell_type": "code",
   "execution_count": 31,
   "id": "4b6ed868",
   "metadata": {},
   "outputs": [
    {
     "data": {
      "text/plain": [
       "<AxesSubplot:>"
      ]
     },
     "execution_count": 31,
     "metadata": {},
     "output_type": "execute_result"
    },
    {
     "data": {
      "image/png": "[encoded data removed]",
      "text/plain": [
       "<Figure size 432x288 with 1 Axes>"
      ]
     },
     "metadata": {
      "needs_background": "light"
     },
     "output_type": "display_data"
    }
   ],
   "source": [
    "crimestat_no_null[crimestat_no_null.year=='2015']['UCR CRIME CATEGORY'].value_counts().plot.bar()"
   ]
  },
  {
   "cell_type": "code",
   "execution_count": 32,
   "id": "d065b9cb",
   "metadata": {},
   "outputs": [
    {
     "data": {
      "text/plain": [
       "<AxesSubplot:>"
      ]
     },
     "execution_count": 32,
     "metadata": {},
     "output_type": "execute_result"
    },
    {
     "data": {
      "image/png": "[encoded data removed]",
      "text/plain": [
       "<Figure size 432x288 with 1 Axes>"
      ]
     },
     "metadata": {
      "needs_background": "light"
     },
     "output_type": "display_data"
    }
   ],
   "source": [
    "crimestat_no_null[crimestat_no_null.year=='2016']['UCR CRIME CATEGORY'].value_counts().plot.bar()"
   ]
  },
  {
   "cell_type": "code",
   "execution_count": 33,
   "id": "7b216b33",
   "metadata": {},
   "outputs": [
    {
     "data": {
      "text/plain": [
       "<AxesSubplot:>"
      ]
     },
     "execution_count": 33,
     "metadata": {},
     "output_type": "execute_result"
    },
    {
     "data": {
      "image/png": "[encoded data removed]",
      "text/plain": [
       "<Figure size 432x288 with 1 Axes>"
      ]
     },
     "metadata": {
      "needs_background": "light"
     },
     "output_type": "display_data"
    }
   ],
   "source": [
    "crimestat_no_null[crimestat_no_null.year=='2017']['UCR CRIME CATEGORY'].value_counts().plot.bar()"
   ]
  },
  {
   "cell_type": "code",
   "execution_count": 34,
   "id": "aa5540d5",
   "metadata": {},
   "outputs": [
    {
     "data": {
      "text/plain": [
       "<AxesSubplot:>"
      ]
     },
     "execution_count": 34,
     "metadata": {},
     "output_type": "execute_result"
    },
    {
     "data": {
      "image/png": "[encoded data removed]",
      "text/plain": [
       "<Figure size 432x288 with 1 Axes>"
      ]
     },
     "metadata": {
      "needs_background": "light"
     },
     "output_type": "display_data"
    }
   ],
   "source": [
    "crimestat_no_null[crimestat_no_null['UCR CRIME CATEGORY']=='LARCENY-THEFT'].year.value_counts().plot.bar()"
   ]
  },
  {
   "cell_type": "markdown",
   "id": "d31d52da",
   "metadata": {},
   "source": [
    "After reviewing all the data in the code above, the largest thing that was observed is the incease in incedences from 2015 to 2016/2017. "
   ]
  }
 ],
 "metadata": {
  "kernelspec": {
   "display_name": "Python 3 (ipykernel)",
   "language": "python",
   "name": "python3"
  },
  "language_info": {
   "codemirror_mode": {
    "name": "ipython",
    "version": 3
   },
   "file_extension": ".py",
   "mimetype": "text/x-python",
   "name": "python",
   "nbconvert_exporter": "python",
   "pygments_lexer": "ipython3",
   "version": "3.9.12"
  }
 },
 "nbformat": 4,
 "nbformat_minor": 5
}
