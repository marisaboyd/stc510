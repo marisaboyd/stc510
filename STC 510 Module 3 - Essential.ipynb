{
 "cells": [
  {
   "cell_type": "markdown",
   "id": "a8f9f1d8",
   "metadata": {},
   "source": [
    "# STC 510 Module 3 Python Data Transformation Essential\n",
    "### By Marisa Boyd"
   ]
  },
  {
   "cell_type": "markdown",
   "id": "6befdbe1",
   "metadata": {},
   "source": [
    "For this assignment, we are continuing on the work that was done for the basics section of this module. An additional data source is to be imported and compared to the crime data, a scatter plot and bar chart should be produced, and the data needs to be placed into a google drive to be reviewed."
   ]
  },
  {
   "cell_type": "markdown",
   "id": "1e9be62a",
   "metadata": {},
   "source": [
    "To start this assignment, the following libraries are imported to be used throughout the analysis of this data."
   ]
  },
  {
   "cell_type": "code",
   "execution_count": 30,
   "id": "f67c4a40",
   "metadata": {},
   "outputs": [],
   "source": [
    "#Library Import\n",
    "import pandas as pd\n",
    "import matplotlib.pyplot as plt\n",
    "import numpy as np"
   ]
  },
  {
   "cell_type": "markdown",
   "id": "0567322c",
   "metadata": {},
   "source": [
    "### Import and Process Crime data"
   ]
  },
  {
   "cell_type": "code",
   "execution_count": 2,
   "id": "e8fa9fa4",
   "metadata": {},
   "outputs": [
    {
     "name": "stderr",
     "output_type": "stream",
     "text": [
      "/var/folders/56/2cm42rxn033c_4hqgns4gl5m0000gn/T/ipykernel_32215/3978119381.py:2: FutureWarning: The error_bad_lines argument has been deprecated and will be removed in a future version. Use on_bad_lines in the future.\n",
      "\n",
      "\n",
      "  crimestat = pd.read_csv(\"crimestat (1).csv\", encoding= \"utf8\", engine= \"python\", error_bad_lines=False)\n",
      "Skipping line 131678: unexpected end of data\n"
     ]
    }
   ],
   "source": [
    "#Import crimestat csv file with error_bad_lines=False\n",
    "crimestat = pd.read_csv(\"crimestat (1).csv\", encoding= \"utf8\", engine= \"python\", error_bad_lines=False)"
   ]
  },
  {
   "cell_type": "code",
   "execution_count": 3,
   "id": "152b745b",
   "metadata": {},
   "outputs": [
    {
     "data": {
      "text/html": [
       "<div>\n",
       "<style scoped>\n",
       "    .dataframe tbody tr th:only-of-type {\n",
       "        vertical-align: middle;\n",
       "    }\n",
       "\n",
       "    .dataframe tbody tr th {\n",
       "        vertical-align: top;\n",
       "    }\n",
       "\n",
       "    .dataframe thead th {\n",
       "        text-align: right;\n",
       "    }\n",
       "</style>\n",
       "<table border=\"1\" class=\"dataframe\">\n",
       "  <thead>\n",
       "    <tr style=\"text-align: right;\">\n",
       "      <th></th>\n",
       "      <th>INC NUMBER</th>\n",
       "      <th>OCCURRED ON</th>\n",
       "      <th>OCCURRED TO</th>\n",
       "      <th>UCR CRIME CATEGORY</th>\n",
       "      <th>100 BLOCK ADDR</th>\n",
       "      <th>ZIP</th>\n",
       "      <th>PREMISE TYPE</th>\n",
       "    </tr>\n",
       "  </thead>\n",
       "  <tbody>\n",
       "    <tr>\n",
       "      <th>0</th>\n",
       "      <td>201600000052855</td>\n",
       "      <td>11/01/2015  00:00</td>\n",
       "      <td>01/09/2016  00:00</td>\n",
       "      <td>MOTOR VEHICLE THEFT</td>\n",
       "      <td>N 43RD AVE &amp; W CACTUS RD</td>\n",
       "      <td>85029.0</td>\n",
       "      <td>SINGLE FAMILY HOUSE</td>\n",
       "    </tr>\n",
       "    <tr>\n",
       "      <th>1</th>\n",
       "      <td>201600000594484</td>\n",
       "      <td>11/01/2015  00:00</td>\n",
       "      <td>NaN</td>\n",
       "      <td>RAPE</td>\n",
       "      <td>13XX E ALMERIA RD</td>\n",
       "      <td>85006.0</td>\n",
       "      <td>SINGLE FAMILY HOUSE</td>\n",
       "    </tr>\n",
       "    <tr>\n",
       "      <th>2</th>\n",
       "      <td>201500002102327</td>\n",
       "      <td>11/01/2015  00:00</td>\n",
       "      <td>11/01/2015  09:00</td>\n",
       "      <td>LARCENY-THEFT</td>\n",
       "      <td>51XX N 15TH ST</td>\n",
       "      <td>85014.0</td>\n",
       "      <td>APARTMENT</td>\n",
       "    </tr>\n",
       "    <tr>\n",
       "      <th>3</th>\n",
       "      <td>201500002101405</td>\n",
       "      <td>11/01/2015  00:00</td>\n",
       "      <td>11/01/2015  05:00</td>\n",
       "      <td>MOTOR VEHICLE THEFT</td>\n",
       "      <td>102XX W MEDLOCK AVE</td>\n",
       "      <td>85307.0</td>\n",
       "      <td>SINGLE FAMILY HOUSE</td>\n",
       "    </tr>\n",
       "    <tr>\n",
       "      <th>4</th>\n",
       "      <td>201500002102668</td>\n",
       "      <td>11/01/2015  00:00</td>\n",
       "      <td>11/01/2015  11:50</td>\n",
       "      <td>MOTOR VEHICLE THEFT</td>\n",
       "      <td>69XX W WOOD ST</td>\n",
       "      <td>85043.0</td>\n",
       "      <td>SINGLE FAMILY HOUSE</td>\n",
       "    </tr>\n",
       "  </tbody>\n",
       "</table>\n",
       "</div>"
      ],
      "text/plain": [
       "        INC NUMBER        OCCURRED ON        OCCURRED TO   UCR CRIME CATEGORY  \\\n",
       "0  201600000052855  11/01/2015  00:00  01/09/2016  00:00  MOTOR VEHICLE THEFT   \n",
       "1  201600000594484  11/01/2015  00:00                NaN                 RAPE   \n",
       "2  201500002102327  11/01/2015  00:00  11/01/2015  09:00        LARCENY-THEFT   \n",
       "3  201500002101405  11/01/2015  00:00  11/01/2015  05:00  MOTOR VEHICLE THEFT   \n",
       "4  201500002102668  11/01/2015  00:00  11/01/2015  11:50  MOTOR VEHICLE THEFT   \n",
       "\n",
       "             100 BLOCK ADDR      ZIP         PREMISE TYPE  \n",
       "0  N 43RD AVE & W CACTUS RD  85029.0  SINGLE FAMILY HOUSE  \n",
       "1         13XX E ALMERIA RD  85006.0  SINGLE FAMILY HOUSE  \n",
       "2            51XX N 15TH ST  85014.0            APARTMENT  \n",
       "3       102XX W MEDLOCK AVE  85307.0  SINGLE FAMILY HOUSE  \n",
       "4            69XX W WOOD ST  85043.0  SINGLE FAMILY HOUSE  "
      ]
     },
     "execution_count": 3,
     "metadata": {},
     "output_type": "execute_result"
    }
   ],
   "source": [
    "#Display first five rows of data in dataframe\n",
    "crimestat.head()"
   ]
  },
  {
   "cell_type": "code",
   "execution_count": 4,
   "id": "962394e6",
   "metadata": {},
   "outputs": [
    {
     "data": {
      "text/plain": [
       "(131676, 7)"
      ]
     },
     "execution_count": 4,
     "metadata": {},
     "output_type": "execute_result"
    }
   ],
   "source": [
    "#Display shape of dataframe\n",
    "crimestat.shape"
   ]
  },
  {
   "cell_type": "code",
   "execution_count": 5,
   "id": "a035c2e5",
   "metadata": {},
   "outputs": [
    {
     "name": "stdout",
     "output_type": "stream",
     "text": [
      "<class 'pandas.core.frame.DataFrame'>\n",
      "RangeIndex: 131676 entries, 0 to 131675\n",
      "Data columns (total 7 columns):\n",
      " #   Column              Non-Null Count   Dtype  \n",
      "---  ------              --------------   -----  \n",
      " 0   INC NUMBER          131676 non-null  object \n",
      " 1   OCCURRED ON         131360 non-null  object \n",
      " 2   OCCURRED TO         93174 non-null   object \n",
      " 3   UCR CRIME CATEGORY  131676 non-null  object \n",
      " 4   100 BLOCK ADDR      131676 non-null  object \n",
      " 5   ZIP                 131673 non-null  float64\n",
      " 6   PREMISE TYPE        130919 non-null  object \n",
      "dtypes: float64(1), object(6)\n",
      "memory usage: 7.0+ MB\n"
     ]
    }
   ],
   "source": [
    "#Display dataframe info\n",
    "crimestat.info()"
   ]
  },
  {
   "cell_type": "code",
   "execution_count": 6,
   "id": "7f3102d9",
   "metadata": {},
   "outputs": [
    {
     "data": {
      "text/plain": [
       "LARCENY-THEFT                            66216\n",
       "BURGLARY                                 23647\n",
       "MOTOR VEHICLE THEFT                      14391\n",
       "DRUG OFFENSE                              9572\n",
       "AGGRAVATED ASSAULT                        9306\n",
       "ROBBERY                                   5640\n",
       "RAPE                                      1981\n",
       "ARSON                                      634\n",
       "MURDER AND NON-NEGLIGENT MANSLAUGHTER      289\n",
       "Name: UCR CRIME CATEGORY, dtype: int64"
      ]
     },
     "execution_count": 6,
     "metadata": {},
     "output_type": "execute_result"
    }
   ],
   "source": [
    "#Display count for each value in feature (Not Normalized)\n",
    "crimestat[\"UCR CRIME CATEGORY\"].value_counts()"
   ]
  },
  {
   "cell_type": "code",
   "execution_count": 7,
   "id": "de6fa602",
   "metadata": {},
   "outputs": [
    {
     "data": {
      "text/plain": [
       "INC NUMBER            131672\n",
       "OCCURRED ON            83137\n",
       "OCCURRED TO            66575\n",
       "UCR CRIME CATEGORY         9\n",
       "100 BLOCK ADDR         29254\n",
       "ZIP                       98\n",
       "PREMISE TYPE              93\n",
       "dtype: int64"
      ]
     },
     "execution_count": 7,
     "metadata": {},
     "output_type": "execute_result"
    }
   ],
   "source": [
    "#Display count of unique values in each feature\n",
    "crimestat.nunique()"
   ]
  },
  {
   "cell_type": "code",
   "execution_count": 33,
   "id": "7b8b2b8d",
   "metadata": {},
   "outputs": [
    {
     "name": "stdout",
     "output_type": "stream",
     "text": [
      "85015.0    6963\n",
      "85008.0    6320\n",
      "85009.0    5513\n",
      "85041.0    5477\n",
      "85051.0    5389\n",
      "           ... \n",
      "85203.0       1\n",
      "85266.0       1\n",
      "85381.0       1\n",
      "85268.0       1\n",
      "85212.0       1\n",
      "Name: ZIP, Length: 98, dtype: int64\n"
     ]
    }
   ],
   "source": [
    "#Display count for each value in feature (Not Normalized)\n",
    "crimestat[\"ZIP\"].value_counts()\n",
    "\n",
    "#Saved into its own datframe to be used for visualizations\n",
    "crimestat_zip_count = crimestat[\"ZIP\"].value_counts()\n",
    "\n",
    "#Display results\n",
    "print(crimestat_zip_count)"
   ]
  },
  {
   "cell_type": "code",
   "execution_count": 40,
   "id": "a86d12c8",
   "metadata": {},
   "outputs": [
    {
     "data": {
      "text/html": [
       "<div>\n",
       "<style scoped>\n",
       "    .dataframe tbody tr th:only-of-type {\n",
       "        vertical-align: middle;\n",
       "    }\n",
       "\n",
       "    .dataframe tbody tr th {\n",
       "        vertical-align: top;\n",
       "    }\n",
       "\n",
       "    .dataframe thead th {\n",
       "        text-align: right;\n",
       "    }\n",
       "</style>\n",
       "<table border=\"1\" class=\"dataframe\">\n",
       "  <thead>\n",
       "    <tr style=\"text-align: right;\">\n",
       "      <th></th>\n",
       "      <th>ZIP</th>\n",
       "      <th>Crime Count</th>\n",
       "    </tr>\n",
       "  </thead>\n",
       "  <tbody>\n",
       "    <tr>\n",
       "      <th>0</th>\n",
       "      <td>85015.0</td>\n",
       "      <td>6963</td>\n",
       "    </tr>\n",
       "    <tr>\n",
       "      <th>1</th>\n",
       "      <td>85008.0</td>\n",
       "      <td>6320</td>\n",
       "    </tr>\n",
       "    <tr>\n",
       "      <th>2</th>\n",
       "      <td>85009.0</td>\n",
       "      <td>5513</td>\n",
       "    </tr>\n",
       "    <tr>\n",
       "      <th>3</th>\n",
       "      <td>85041.0</td>\n",
       "      <td>5477</td>\n",
       "    </tr>\n",
       "    <tr>\n",
       "      <th>4</th>\n",
       "      <td>85051.0</td>\n",
       "      <td>5389</td>\n",
       "    </tr>\n",
       "  </tbody>\n",
       "</table>\n",
       "</div>"
      ],
      "text/plain": [
       "       ZIP  Crime Count\n",
       "0  85015.0         6963\n",
       "1  85008.0         6320\n",
       "2  85009.0         5513\n",
       "3  85041.0         5477\n",
       "4  85051.0         5389"
      ]
     },
     "execution_count": 40,
     "metadata": {},
     "output_type": "execute_result"
    }
   ],
   "source": [
    "#Convert Series into Dataframe\n",
    "crimestat_zip_count_df = crimestat_zip_count.to_frame()\n",
    "\n",
    "#Reset Index \n",
    "crimestat_zip_count_df.reset_index(inplace=True)\n",
    "\n",
    "#Rename Columns\n",
    "crimestat_zip_count_df = crimestat_zip_count_df.rename(columns = {'index':'ZIP', 'ZIP':'Crime Count'})\n",
    "\n",
    "crimestat_zip_count_df.head()"
   ]
  },
  {
   "cell_type": "code",
   "execution_count": 11,
   "id": "4f7e8bd2",
   "metadata": {},
   "outputs": [
    {
     "data": {
      "text/plain": [
       "85015.0    0.052881\n",
       "85008.0    0.047998\n",
       "85009.0    0.041869\n",
       "85041.0    0.041595\n",
       "85051.0    0.040927\n",
       "             ...   \n",
       "85203.0    0.000008\n",
       "85266.0    0.000008\n",
       "85381.0    0.000008\n",
       "85268.0    0.000008\n",
       "85212.0    0.000008\n",
       "Name: ZIP, Length: 98, dtype: float64"
      ]
     },
     "execution_count": 11,
     "metadata": {},
     "output_type": "execute_result"
    }
   ],
   "source": [
    "#Display count for each value in feature (Normalized)\n",
    "crimestat[\"ZIP\"].value_counts(normalize=True)"
   ]
  },
  {
   "cell_type": "code",
   "execution_count": 48,
   "id": "5d0e8e0c",
   "metadata": {},
   "outputs": [
    {
     "name": "stdout",
     "output_type": "stream",
     "text": [
      "ZIP      UCR CRIME CATEGORY \n",
      "85003.0  LARCENY-THEFT          758\n",
      "         DRUG OFFENSE           194\n",
      "         BURGLARY               179\n",
      "         MOTOR VEHICLE THEFT    128\n",
      "         AGGRAVATED ASSAULT     120\n",
      "                               ... \n",
      "85395.0  AGGRAVATED ASSAULT       1\n",
      "         RAPE                     1\n",
      "85396.0  LARCENY-THEFT            2\n",
      "         BURGLARY                 1\n",
      "         MOTOR VEHICLE THEFT      1\n",
      "Name: UCR CRIME CATEGORY, Length: 561, dtype: int64\n"
     ]
    }
   ],
   "source": [
    "#Group data by ZIP and save into new dataframe\n",
    "crimestat_zip = crimestat.groupby([\"ZIP\"])\n",
    "\n",
    "\n",
    "#Save count results into new dataframe for visuals\n",
    "crimestat_zip_by_category_count = crimestat_zip[\"UCR CRIME CATEGORY\"].value_counts()\n",
    "\n",
    "print(crimestat_zip_by_category_count)"
   ]
  },
  {
   "cell_type": "code",
   "execution_count": 49,
   "id": "bd3e141a",
   "metadata": {},
   "outputs": [
    {
     "data": {
      "text/plain": [
       "pandas.core.series.Series"
      ]
     },
     "execution_count": 49,
     "metadata": {},
     "output_type": "execute_result"
    }
   ],
   "source": [
    "type(crimestat_zip_by_category_count)"
   ]
  },
  {
   "cell_type": "code",
   "execution_count": 58,
   "id": "97839b79",
   "metadata": {},
   "outputs": [
    {
     "data": {
      "text/html": [
       "<div>\n",
       "<style scoped>\n",
       "    .dataframe tbody tr th:only-of-type {\n",
       "        vertical-align: middle;\n",
       "    }\n",
       "\n",
       "    .dataframe tbody tr th {\n",
       "        vertical-align: top;\n",
       "    }\n",
       "\n",
       "    .dataframe thead th {\n",
       "        text-align: right;\n",
       "    }\n",
       "</style>\n",
       "<table border=\"1\" class=\"dataframe\">\n",
       "  <thead>\n",
       "    <tr style=\"text-align: right;\">\n",
       "      <th></th>\n",
       "      <th>ZIP</th>\n",
       "      <th>UCR CRIME CATEGORY</th>\n",
       "      <th>Crime Count</th>\n",
       "    </tr>\n",
       "  </thead>\n",
       "  <tbody>\n",
       "    <tr>\n",
       "      <th>0</th>\n",
       "      <td>85003.0</td>\n",
       "      <td>LARCENY-THEFT</td>\n",
       "      <td>758</td>\n",
       "    </tr>\n",
       "    <tr>\n",
       "      <th>1</th>\n",
       "      <td>85003.0</td>\n",
       "      <td>DRUG OFFENSE</td>\n",
       "      <td>194</td>\n",
       "    </tr>\n",
       "    <tr>\n",
       "      <th>2</th>\n",
       "      <td>85003.0</td>\n",
       "      <td>BURGLARY</td>\n",
       "      <td>179</td>\n",
       "    </tr>\n",
       "    <tr>\n",
       "      <th>3</th>\n",
       "      <td>85003.0</td>\n",
       "      <td>MOTOR VEHICLE THEFT</td>\n",
       "      <td>128</td>\n",
       "    </tr>\n",
       "    <tr>\n",
       "      <th>4</th>\n",
       "      <td>85003.0</td>\n",
       "      <td>AGGRAVATED ASSAULT</td>\n",
       "      <td>120</td>\n",
       "    </tr>\n",
       "  </tbody>\n",
       "</table>\n",
       "</div>"
      ],
      "text/plain": [
       "       ZIP   UCR CRIME CATEGORY  Crime Count\n",
       "0  85003.0        LARCENY-THEFT          758\n",
       "1  85003.0         DRUG OFFENSE          194\n",
       "2  85003.0             BURGLARY          179\n",
       "3  85003.0  MOTOR VEHICLE THEFT          128\n",
       "4  85003.0   AGGRAVATED ASSAULT          120"
      ]
     },
     "execution_count": 58,
     "metadata": {},
     "output_type": "execute_result"
    }
   ],
   "source": [
    "#Convert Series into Dataframe\n",
    "crimestat_zip_by_category_count_df = crimestat_zip_by_category_count.to_frame()\n",
    "\n",
    "#Rename UCR CRIME CATTEGORY \n",
    "crimestat_zip_by_category_count_df = crimestat_zip_by_category_count_df.rename(columns = {'UCR CRIME CATEGORY':'Crime Count'})\n",
    "\n",
    "#Reset index (creates ZIP and UCR CRIME CATEGORY Columns in dataframe)\n",
    "crimestat_zip_by_category_count_df.reset_index(inplace=True)\n",
    "\n",
    "#Display first five rows of dataframe\n",
    "crimestat_zip_by_category_count_df.head()"
   ]
  },
  {
   "cell_type": "markdown",
   "id": "b307a65b",
   "metadata": {},
   "source": [
    "There are 98 different zip codes within this table. These zip codes will be compared to those found within the other data set to see if salary is related to crime rate. It will also be interesting to see what type of crimes are commited within the different zipcodes in comparison to salary."
   ]
  },
  {
   "cell_type": "markdown",
   "id": "70fa8a29",
   "metadata": {},
   "source": [
    "### Import and Process Salary Data"
   ]
  },
  {
   "cell_type": "code",
   "execution_count": 14,
   "id": "f9911501",
   "metadata": {},
   "outputs": [
    {
     "name": "stderr",
     "output_type": "stream",
     "text": [
      "/var/folders/56/2cm42rxn033c_4hqgns4gl5m0000gn/T/ipykernel_32215/4112301125.py:2: DtypeWarning: Columns (11) have mixed types. Specify dtype option on import or set low_memory=False.\n",
      "  salary_zip = pd.read_csv(\"free-zipcode-database.csv\")\n"
     ]
    }
   ],
   "source": [
    "#Import crimestat csv file with error_bad_lines=False\n",
    "salary_zip = pd.read_csv(\"free-zipcode-database.csv\")"
   ]
  },
  {
   "cell_type": "code",
   "execution_count": 15,
   "id": "ee80f6ef",
   "metadata": {},
   "outputs": [
    {
     "data": {
      "text/html": [
       "<div>\n",
       "<style scoped>\n",
       "    .dataframe tbody tr th:only-of-type {\n",
       "        vertical-align: middle;\n",
       "    }\n",
       "\n",
       "    .dataframe tbody tr th {\n",
       "        vertical-align: top;\n",
       "    }\n",
       "\n",
       "    .dataframe thead th {\n",
       "        text-align: right;\n",
       "    }\n",
       "</style>\n",
       "<table border=\"1\" class=\"dataframe\">\n",
       "  <thead>\n",
       "    <tr style=\"text-align: right;\">\n",
       "      <th></th>\n",
       "      <th>RecordNumber</th>\n",
       "      <th>Zipcode</th>\n",
       "      <th>ZipCodeType</th>\n",
       "      <th>City</th>\n",
       "      <th>State</th>\n",
       "      <th>LocationType</th>\n",
       "      <th>Lat</th>\n",
       "      <th>Long</th>\n",
       "      <th>Xaxis</th>\n",
       "      <th>Yaxis</th>\n",
       "      <th>Zaxis</th>\n",
       "      <th>WorldRegion</th>\n",
       "      <th>Country</th>\n",
       "      <th>LocationText</th>\n",
       "      <th>Location</th>\n",
       "      <th>Decommisioned</th>\n",
       "      <th>TaxReturnsFiled</th>\n",
       "      <th>EstimatedPopulation</th>\n",
       "      <th>TotalWages</th>\n",
       "      <th>Notes</th>\n",
       "    </tr>\n",
       "  </thead>\n",
       "  <tbody>\n",
       "    <tr>\n",
       "      <th>0</th>\n",
       "      <td>1</td>\n",
       "      <td>704</td>\n",
       "      <td>STANDARD</td>\n",
       "      <td>PARC PARQUE</td>\n",
       "      <td>PR</td>\n",
       "      <td>NOT ACCEPTABLE</td>\n",
       "      <td>17.96</td>\n",
       "      <td>-66.22</td>\n",
       "      <td>0.38</td>\n",
       "      <td>-0.87</td>\n",
       "      <td>0.3</td>\n",
       "      <td>NaN</td>\n",
       "      <td>US</td>\n",
       "      <td>Parc Parque, PR</td>\n",
       "      <td>NA-US-PR-PARC PARQUE</td>\n",
       "      <td>False</td>\n",
       "      <td>NaN</td>\n",
       "      <td>NaN</td>\n",
       "      <td>NaN</td>\n",
       "      <td>NaN</td>\n",
       "    </tr>\n",
       "    <tr>\n",
       "      <th>1</th>\n",
       "      <td>2</td>\n",
       "      <td>704</td>\n",
       "      <td>STANDARD</td>\n",
       "      <td>PASEO COSTA DEL SUR</td>\n",
       "      <td>PR</td>\n",
       "      <td>NOT ACCEPTABLE</td>\n",
       "      <td>17.96</td>\n",
       "      <td>-66.22</td>\n",
       "      <td>0.38</td>\n",
       "      <td>-0.87</td>\n",
       "      <td>0.3</td>\n",
       "      <td>NaN</td>\n",
       "      <td>US</td>\n",
       "      <td>Paseo Costa Del Sur, PR</td>\n",
       "      <td>NA-US-PR-PASEO COSTA DEL SUR</td>\n",
       "      <td>False</td>\n",
       "      <td>NaN</td>\n",
       "      <td>NaN</td>\n",
       "      <td>NaN</td>\n",
       "      <td>NaN</td>\n",
       "    </tr>\n",
       "    <tr>\n",
       "      <th>2</th>\n",
       "      <td>3</td>\n",
       "      <td>704</td>\n",
       "      <td>STANDARD</td>\n",
       "      <td>SECT LANAUSSE</td>\n",
       "      <td>PR</td>\n",
       "      <td>NOT ACCEPTABLE</td>\n",
       "      <td>17.96</td>\n",
       "      <td>-66.22</td>\n",
       "      <td>0.38</td>\n",
       "      <td>-0.87</td>\n",
       "      <td>0.3</td>\n",
       "      <td>NaN</td>\n",
       "      <td>US</td>\n",
       "      <td>Sect Lanausse, PR</td>\n",
       "      <td>NA-US-PR-SECT LANAUSSE</td>\n",
       "      <td>False</td>\n",
       "      <td>NaN</td>\n",
       "      <td>NaN</td>\n",
       "      <td>NaN</td>\n",
       "      <td>NaN</td>\n",
       "    </tr>\n",
       "    <tr>\n",
       "      <th>3</th>\n",
       "      <td>4</td>\n",
       "      <td>704</td>\n",
       "      <td>STANDARD</td>\n",
       "      <td>URB EUGENE RICE</td>\n",
       "      <td>PR</td>\n",
       "      <td>NOT ACCEPTABLE</td>\n",
       "      <td>17.96</td>\n",
       "      <td>-66.22</td>\n",
       "      <td>0.38</td>\n",
       "      <td>-0.87</td>\n",
       "      <td>0.3</td>\n",
       "      <td>NaN</td>\n",
       "      <td>US</td>\n",
       "      <td>Urb Eugene Rice, PR</td>\n",
       "      <td>NA-US-PR-URB EUGENE RICE</td>\n",
       "      <td>False</td>\n",
       "      <td>NaN</td>\n",
       "      <td>NaN</td>\n",
       "      <td>NaN</td>\n",
       "      <td>NaN</td>\n",
       "    </tr>\n",
       "    <tr>\n",
       "      <th>4</th>\n",
       "      <td>5</td>\n",
       "      <td>704</td>\n",
       "      <td>STANDARD</td>\n",
       "      <td>URB GONZALEZ</td>\n",
       "      <td>PR</td>\n",
       "      <td>NOT ACCEPTABLE</td>\n",
       "      <td>17.96</td>\n",
       "      <td>-66.22</td>\n",
       "      <td>0.38</td>\n",
       "      <td>-0.87</td>\n",
       "      <td>0.3</td>\n",
       "      <td>NaN</td>\n",
       "      <td>US</td>\n",
       "      <td>Urb Gonzalez, PR</td>\n",
       "      <td>NA-US-PR-URB GONZALEZ</td>\n",
       "      <td>False</td>\n",
       "      <td>NaN</td>\n",
       "      <td>NaN</td>\n",
       "      <td>NaN</td>\n",
       "      <td>NaN</td>\n",
       "    </tr>\n",
       "  </tbody>\n",
       "</table>\n",
       "</div>"
      ],
      "text/plain": [
       "   RecordNumber  Zipcode ZipCodeType                 City State  \\\n",
       "0             1      704    STANDARD          PARC PARQUE    PR   \n",
       "1             2      704    STANDARD  PASEO COSTA DEL SUR    PR   \n",
       "2             3      704    STANDARD        SECT LANAUSSE    PR   \n",
       "3             4      704    STANDARD      URB EUGENE RICE    PR   \n",
       "4             5      704    STANDARD         URB GONZALEZ    PR   \n",
       "\n",
       "     LocationType    Lat   Long  Xaxis  Yaxis  Zaxis WorldRegion Country  \\\n",
       "0  NOT ACCEPTABLE  17.96 -66.22   0.38  -0.87    0.3         NaN      US   \n",
       "1  NOT ACCEPTABLE  17.96 -66.22   0.38  -0.87    0.3         NaN      US   \n",
       "2  NOT ACCEPTABLE  17.96 -66.22   0.38  -0.87    0.3         NaN      US   \n",
       "3  NOT ACCEPTABLE  17.96 -66.22   0.38  -0.87    0.3         NaN      US   \n",
       "4  NOT ACCEPTABLE  17.96 -66.22   0.38  -0.87    0.3         NaN      US   \n",
       "\n",
       "              LocationText                      Location  Decommisioned  \\\n",
       "0          Parc Parque, PR          NA-US-PR-PARC PARQUE          False   \n",
       "1  Paseo Costa Del Sur, PR  NA-US-PR-PASEO COSTA DEL SUR          False   \n",
       "2        Sect Lanausse, PR        NA-US-PR-SECT LANAUSSE          False   \n",
       "3      Urb Eugene Rice, PR      NA-US-PR-URB EUGENE RICE          False   \n",
       "4         Urb Gonzalez, PR         NA-US-PR-URB GONZALEZ          False   \n",
       "\n",
       "   TaxReturnsFiled  EstimatedPopulation  TotalWages Notes  \n",
       "0              NaN                  NaN         NaN   NaN  \n",
       "1              NaN                  NaN         NaN   NaN  \n",
       "2              NaN                  NaN         NaN   NaN  \n",
       "3              NaN                  NaN         NaN   NaN  \n",
       "4              NaN                  NaN         NaN   NaN  "
      ]
     },
     "execution_count": 15,
     "metadata": {},
     "output_type": "execute_result"
    }
   ],
   "source": [
    "#Display first five rows of data in dataframe\n",
    "salary_zip.head()"
   ]
  },
  {
   "cell_type": "code",
   "execution_count": 16,
   "id": "7ccc4406",
   "metadata": {},
   "outputs": [
    {
     "data": {
      "text/plain": [
       "PHOENIX                  82\n",
       "TUCSON                   56\n",
       "SCOTTSDALE               20\n",
       "MESA                     19\n",
       "GLENDALE                 14\n",
       "                         ..\n",
       "CHILCHINBITO              1\n",
       "BLACK MESA                1\n",
       "BABY ROCK                 1\n",
       "KAYENTA                   1\n",
       "ARIZ CORRECTIONAL CTR     1\n",
       "Name: City, Length: 506, dtype: int64"
      ]
     },
     "execution_count": 16,
     "metadata": {},
     "output_type": "execute_result"
    }
   ],
   "source": [
    "#Filter dataframe on State = 'AZ' and save into a dataframe\n",
    "salary_zip_az = salary_zip[salary_zip.State=='AZ'].copy()\n",
    "\n",
    "#Display unique values in City field with related value count\n",
    "salary_zip_az['City'].value_counts()"
   ]
  },
  {
   "cell_type": "markdown",
   "id": "fc99bfec",
   "metadata": {},
   "source": [
    "There are 82 different zip codes for the city of Phoenix. These will be taken out and placed into their own dataframe to be used in the analysis."
   ]
  },
  {
   "cell_type": "code",
   "execution_count": 17,
   "id": "dfcafff2",
   "metadata": {},
   "outputs": [
    {
     "data": {
      "text/html": [
       "<div>\n",
       "<style scoped>\n",
       "    .dataframe tbody tr th:only-of-type {\n",
       "        vertical-align: middle;\n",
       "    }\n",
       "\n",
       "    .dataframe tbody tr th {\n",
       "        vertical-align: top;\n",
       "    }\n",
       "\n",
       "    .dataframe thead th {\n",
       "        text-align: right;\n",
       "    }\n",
       "</style>\n",
       "<table border=\"1\" class=\"dataframe\">\n",
       "  <thead>\n",
       "    <tr style=\"text-align: right;\">\n",
       "      <th></th>\n",
       "      <th>RecordNumber</th>\n",
       "      <th>ZIP</th>\n",
       "      <th>ZipCodeType</th>\n",
       "      <th>City</th>\n",
       "      <th>State</th>\n",
       "      <th>LocationType</th>\n",
       "      <th>Lat</th>\n",
       "      <th>Long</th>\n",
       "      <th>Xaxis</th>\n",
       "      <th>Yaxis</th>\n",
       "      <th>Zaxis</th>\n",
       "      <th>WorldRegion</th>\n",
       "      <th>Country</th>\n",
       "      <th>LocationText</th>\n",
       "      <th>Location</th>\n",
       "      <th>Decommisioned</th>\n",
       "      <th>TaxReturnsFiled</th>\n",
       "      <th>EstimatedPopulation</th>\n",
       "      <th>TotalWages</th>\n",
       "      <th>Notes</th>\n",
       "    </tr>\n",
       "  </thead>\n",
       "  <tbody>\n",
       "    <tr>\n",
       "      <th>39883</th>\n",
       "      <td>39884</td>\n",
       "      <td>85001</td>\n",
       "      <td>PO BOX</td>\n",
       "      <td>PHOENIX</td>\n",
       "      <td>AZ</td>\n",
       "      <td>PRIMARY</td>\n",
       "      <td>33.45</td>\n",
       "      <td>-112.06</td>\n",
       "      <td>-0.31</td>\n",
       "      <td>-0.77</td>\n",
       "      <td>0.55</td>\n",
       "      <td>NaN</td>\n",
       "      <td>US</td>\n",
       "      <td>Phoenix, AZ</td>\n",
       "      <td>NA-US-AZ-PHOENIX</td>\n",
       "      <td>False</td>\n",
       "      <td>319.0</td>\n",
       "      <td>459.0</td>\n",
       "      <td>11856452.0</td>\n",
       "      <td>NaN</td>\n",
       "    </tr>\n",
       "    <tr>\n",
       "      <th>39884</th>\n",
       "      <td>39885</td>\n",
       "      <td>85002</td>\n",
       "      <td>PO BOX</td>\n",
       "      <td>PHOENIX</td>\n",
       "      <td>AZ</td>\n",
       "      <td>PRIMARY</td>\n",
       "      <td>33.45</td>\n",
       "      <td>-112.06</td>\n",
       "      <td>-0.31</td>\n",
       "      <td>-0.77</td>\n",
       "      <td>0.55</td>\n",
       "      <td>NaN</td>\n",
       "      <td>US</td>\n",
       "      <td>Phoenix, AZ</td>\n",
       "      <td>NA-US-AZ-PHOENIX</td>\n",
       "      <td>False</td>\n",
       "      <td>NaN</td>\n",
       "      <td>NaN</td>\n",
       "      <td>NaN</td>\n",
       "      <td>NaN</td>\n",
       "    </tr>\n",
       "    <tr>\n",
       "      <th>39885</th>\n",
       "      <td>39886</td>\n",
       "      <td>85003</td>\n",
       "      <td>STANDARD</td>\n",
       "      <td>PHOENIX</td>\n",
       "      <td>AZ</td>\n",
       "      <td>PRIMARY</td>\n",
       "      <td>33.45</td>\n",
       "      <td>-112.07</td>\n",
       "      <td>-0.31</td>\n",
       "      <td>-0.77</td>\n",
       "      <td>0.55</td>\n",
       "      <td>NaN</td>\n",
       "      <td>US</td>\n",
       "      <td>Phoenix, AZ</td>\n",
       "      <td>NA-US-AZ-PHOENIX</td>\n",
       "      <td>False</td>\n",
       "      <td>3178.0</td>\n",
       "      <td>4814.0</td>\n",
       "      <td>149827797.0</td>\n",
       "      <td>NaN</td>\n",
       "    </tr>\n",
       "    <tr>\n",
       "      <th>39886</th>\n",
       "      <td>39887</td>\n",
       "      <td>85004</td>\n",
       "      <td>STANDARD</td>\n",
       "      <td>PHOENIX</td>\n",
       "      <td>AZ</td>\n",
       "      <td>PRIMARY</td>\n",
       "      <td>33.44</td>\n",
       "      <td>-112.07</td>\n",
       "      <td>-0.31</td>\n",
       "      <td>-0.77</td>\n",
       "      <td>0.55</td>\n",
       "      <td>NaN</td>\n",
       "      <td>US</td>\n",
       "      <td>Phoenix, AZ</td>\n",
       "      <td>NA-US-AZ-PHOENIX</td>\n",
       "      <td>False</td>\n",
       "      <td>2034.0</td>\n",
       "      <td>2892.0</td>\n",
       "      <td>93573719.0</td>\n",
       "      <td>NaN</td>\n",
       "    </tr>\n",
       "    <tr>\n",
       "      <th>39887</th>\n",
       "      <td>39888</td>\n",
       "      <td>85005</td>\n",
       "      <td>PO BOX</td>\n",
       "      <td>PHOENIX</td>\n",
       "      <td>AZ</td>\n",
       "      <td>PRIMARY</td>\n",
       "      <td>33.44</td>\n",
       "      <td>-112.12</td>\n",
       "      <td>-0.31</td>\n",
       "      <td>-0.77</td>\n",
       "      <td>0.55</td>\n",
       "      <td>NaN</td>\n",
       "      <td>US</td>\n",
       "      <td>Phoenix, AZ</td>\n",
       "      <td>NA-US-AZ-PHOENIX</td>\n",
       "      <td>False</td>\n",
       "      <td>443.0</td>\n",
       "      <td>800.0</td>\n",
       "      <td>12334424.0</td>\n",
       "      <td>NaN</td>\n",
       "    </tr>\n",
       "  </tbody>\n",
       "</table>\n",
       "</div>"
      ],
      "text/plain": [
       "       RecordNumber    ZIP ZipCodeType     City State LocationType    Lat  \\\n",
       "39883         39884  85001      PO BOX  PHOENIX    AZ      PRIMARY  33.45   \n",
       "39884         39885  85002      PO BOX  PHOENIX    AZ      PRIMARY  33.45   \n",
       "39885         39886  85003    STANDARD  PHOENIX    AZ      PRIMARY  33.45   \n",
       "39886         39887  85004    STANDARD  PHOENIX    AZ      PRIMARY  33.44   \n",
       "39887         39888  85005      PO BOX  PHOENIX    AZ      PRIMARY  33.44   \n",
       "\n",
       "         Long  Xaxis  Yaxis  Zaxis WorldRegion Country LocationText  \\\n",
       "39883 -112.06  -0.31  -0.77   0.55         NaN      US  Phoenix, AZ   \n",
       "39884 -112.06  -0.31  -0.77   0.55         NaN      US  Phoenix, AZ   \n",
       "39885 -112.07  -0.31  -0.77   0.55         NaN      US  Phoenix, AZ   \n",
       "39886 -112.07  -0.31  -0.77   0.55         NaN      US  Phoenix, AZ   \n",
       "39887 -112.12  -0.31  -0.77   0.55         NaN      US  Phoenix, AZ   \n",
       "\n",
       "               Location  Decommisioned  TaxReturnsFiled  EstimatedPopulation  \\\n",
       "39883  NA-US-AZ-PHOENIX          False            319.0                459.0   \n",
       "39884  NA-US-AZ-PHOENIX          False              NaN                  NaN   \n",
       "39885  NA-US-AZ-PHOENIX          False           3178.0               4814.0   \n",
       "39886  NA-US-AZ-PHOENIX          False           2034.0               2892.0   \n",
       "39887  NA-US-AZ-PHOENIX          False            443.0                800.0   \n",
       "\n",
       "        TotalWages Notes  \n",
       "39883   11856452.0   NaN  \n",
       "39884          NaN   NaN  \n",
       "39885  149827797.0   NaN  \n",
       "39886   93573719.0   NaN  \n",
       "39887   12334424.0   NaN  "
      ]
     },
     "execution_count": 17,
     "metadata": {},
     "output_type": "execute_result"
    }
   ],
   "source": [
    "#Filter dataframe on City = 'PHOENIX' and save into a dataframe\n",
    "salary_zip_az_phoenx = salary_zip_az[salary_zip_az.City=='PHOENIX'].copy()\n",
    "\n",
    "#Change column name to match other dataframe\n",
    "salary_zip_az_phoenx.rename(columns={'Zipcode': 'ZIP'}, inplace=True)\n",
    "\n",
    "#Display first five rows of dataframe\n",
    "salary_zip_az_phoenx.head()"
   ]
  },
  {
   "cell_type": "code",
   "execution_count": 59,
   "id": "cc3012f3",
   "metadata": {},
   "outputs": [
    {
     "data": {
      "text/html": [
       "<div>\n",
       "<style scoped>\n",
       "    .dataframe tbody tr th:only-of-type {\n",
       "        vertical-align: middle;\n",
       "    }\n",
       "\n",
       "    .dataframe tbody tr th {\n",
       "        vertical-align: top;\n",
       "    }\n",
       "\n",
       "    .dataframe thead th {\n",
       "        text-align: right;\n",
       "    }\n",
       "</style>\n",
       "<table border=\"1\" class=\"dataframe\">\n",
       "  <thead>\n",
       "    <tr style=\"text-align: right;\">\n",
       "      <th></th>\n",
       "      <th>ZIP</th>\n",
       "      <th>TotalWages</th>\n",
       "    </tr>\n",
       "  </thead>\n",
       "  <tbody>\n",
       "    <tr>\n",
       "      <th>39883</th>\n",
       "      <td>85001</td>\n",
       "      <td>11856452.0</td>\n",
       "    </tr>\n",
       "    <tr>\n",
       "      <th>39884</th>\n",
       "      <td>85002</td>\n",
       "      <td>NaN</td>\n",
       "    </tr>\n",
       "    <tr>\n",
       "      <th>39885</th>\n",
       "      <td>85003</td>\n",
       "      <td>149827797.0</td>\n",
       "    </tr>\n",
       "    <tr>\n",
       "      <th>39886</th>\n",
       "      <td>85004</td>\n",
       "      <td>93573719.0</td>\n",
       "    </tr>\n",
       "    <tr>\n",
       "      <th>39887</th>\n",
       "      <td>85005</td>\n",
       "      <td>12334424.0</td>\n",
       "    </tr>\n",
       "  </tbody>\n",
       "</table>\n",
       "</div>"
      ],
      "text/plain": [
       "         ZIP   TotalWages\n",
       "39883  85001   11856452.0\n",
       "39884  85002          NaN\n",
       "39885  85003  149827797.0\n",
       "39886  85004   93573719.0\n",
       "39887  85005   12334424.0"
      ]
     },
     "execution_count": 59,
     "metadata": {},
     "output_type": "execute_result"
    }
   ],
   "source": [
    "salary_zip_only_phoenx = salary_zip_az_phoenx.iloc[:,[1,18]]\n",
    "\n",
    "salary_zip_only_phoenx.head()"
   ]
  },
  {
   "cell_type": "markdown",
   "id": "1073d155",
   "metadata": {},
   "source": [
    "### Join The Data Sets Together"
   ]
  },
  {
   "cell_type": "code",
   "execution_count": 62,
   "id": "9413bbe4",
   "metadata": {},
   "outputs": [
    {
     "data": {
      "text/html": [
       "<div>\n",
       "<style scoped>\n",
       "    .dataframe tbody tr th:only-of-type {\n",
       "        vertical-align: middle;\n",
       "    }\n",
       "\n",
       "    .dataframe tbody tr th {\n",
       "        vertical-align: top;\n",
       "    }\n",
       "\n",
       "    .dataframe thead th {\n",
       "        text-align: right;\n",
       "    }\n",
       "</style>\n",
       "<table border=\"1\" class=\"dataframe\">\n",
       "  <thead>\n",
       "    <tr style=\"text-align: right;\">\n",
       "      <th></th>\n",
       "      <th>ZIP</th>\n",
       "      <th>Crime Count</th>\n",
       "      <th>TotalWages</th>\n",
       "    </tr>\n",
       "  </thead>\n",
       "  <tbody>\n",
       "    <tr>\n",
       "      <th>0</th>\n",
       "      <td>85015.0</td>\n",
       "      <td>6963</td>\n",
       "      <td>406520963.0</td>\n",
       "    </tr>\n",
       "    <tr>\n",
       "      <th>1</th>\n",
       "      <td>85008.0</td>\n",
       "      <td>6320</td>\n",
       "      <td>546914938.0</td>\n",
       "    </tr>\n",
       "    <tr>\n",
       "      <th>2</th>\n",
       "      <td>85009.0</td>\n",
       "      <td>5513</td>\n",
       "      <td>334345465.0</td>\n",
       "    </tr>\n",
       "    <tr>\n",
       "      <th>3</th>\n",
       "      <td>85041.0</td>\n",
       "      <td>5477</td>\n",
       "      <td>675794485.0</td>\n",
       "    </tr>\n",
       "    <tr>\n",
       "      <th>4</th>\n",
       "      <td>85051.0</td>\n",
       "      <td>5389</td>\n",
       "      <td>464928453.0</td>\n",
       "    </tr>\n",
       "  </tbody>\n",
       "</table>\n",
       "</div>"
      ],
      "text/plain": [
       "       ZIP  Crime Count   TotalWages\n",
       "0  85015.0         6963  406520963.0\n",
       "1  85008.0         6320  546914938.0\n",
       "2  85009.0         5513  334345465.0\n",
       "3  85041.0         5477  675794485.0\n",
       "4  85051.0         5389  464928453.0"
      ]
     },
     "execution_count": 62,
     "metadata": {},
     "output_type": "execute_result"
    }
   ],
   "source": [
    "crimestat_salary_zip = pd.merge(crimestat_zip_count_df, salary_zip_only_phoenx, on = \"ZIP\", how = \"inner\")\n",
    "\n",
    "crimestat_salary_zip = crimestat_salary_zip.iloc[:,[2,3,4]]\n",
    "\n",
    "crimestat_salary_zip.head()"
   ]
  },
  {
   "cell_type": "code",
   "execution_count": 63,
   "id": "b906d5c9",
   "metadata": {
    "scrolled": true
   },
   "outputs": [
    {
     "data": {
      "text/html": [
       "<div>\n",
       "<style scoped>\n",
       "    .dataframe tbody tr th:only-of-type {\n",
       "        vertical-align: middle;\n",
       "    }\n",
       "\n",
       "    .dataframe tbody tr th {\n",
       "        vertical-align: top;\n",
       "    }\n",
       "\n",
       "    .dataframe thead th {\n",
       "        text-align: right;\n",
       "    }\n",
       "</style>\n",
       "<table border=\"1\" class=\"dataframe\">\n",
       "  <thead>\n",
       "    <tr style=\"text-align: right;\">\n",
       "      <th></th>\n",
       "      <th>ZIP</th>\n",
       "      <th>Crime Count</th>\n",
       "      <th>TotalWages</th>\n",
       "    </tr>\n",
       "  </thead>\n",
       "  <tbody>\n",
       "    <tr>\n",
       "      <th>count</th>\n",
       "      <td>43.000000</td>\n",
       "      <td>43.000000</td>\n",
       "      <td>4.300000e+01</td>\n",
       "    </tr>\n",
       "    <tr>\n",
       "      <th>mean</th>\n",
       "      <td>85032.767442</td>\n",
       "      <td>2868.953488</td>\n",
       "      <td>4.822726e+08</td>\n",
       "    </tr>\n",
       "    <tr>\n",
       "      <th>std</th>\n",
       "      <td>22.212006</td>\n",
       "      <td>1797.479213</td>\n",
       "      <td>2.711852e+08</td>\n",
       "    </tr>\n",
       "    <tr>\n",
       "      <th>min</th>\n",
       "      <td>85003.000000</td>\n",
       "      <td>72.000000</td>\n",
       "      <td>5.801539e+07</td>\n",
       "    </tr>\n",
       "    <tr>\n",
       "      <th>25%</th>\n",
       "      <td>85016.500000</td>\n",
       "      <td>1280.000000</td>\n",
       "      <td>2.712277e+08</td>\n",
       "    </tr>\n",
       "    <tr>\n",
       "      <th>50%</th>\n",
       "      <td>85029.000000</td>\n",
       "      <td>2839.000000</td>\n",
       "      <td>4.522525e+08</td>\n",
       "    </tr>\n",
       "    <tr>\n",
       "      <th>75%</th>\n",
       "      <td>85043.500000</td>\n",
       "      <td>4188.500000</td>\n",
       "      <td>6.099523e+08</td>\n",
       "    </tr>\n",
       "    <tr>\n",
       "      <th>max</th>\n",
       "      <td>85087.000000</td>\n",
       "      <td>6963.000000</td>\n",
       "      <td>1.099981e+09</td>\n",
       "    </tr>\n",
       "  </tbody>\n",
       "</table>\n",
       "</div>"
      ],
      "text/plain": [
       "                ZIP  Crime Count    TotalWages\n",
       "count     43.000000    43.000000  4.300000e+01\n",
       "mean   85032.767442  2868.953488  4.822726e+08\n",
       "std       22.212006  1797.479213  2.711852e+08\n",
       "min    85003.000000    72.000000  5.801539e+07\n",
       "25%    85016.500000  1280.000000  2.712277e+08\n",
       "50%    85029.000000  2839.000000  4.522525e+08\n",
       "75%    85043.500000  4188.500000  6.099523e+08\n",
       "max    85087.000000  6963.000000  1.099981e+09"
      ]
     },
     "execution_count": 63,
     "metadata": {},
     "output_type": "execute_result"
    }
   ],
   "source": [
    "crimestat_salary_zip.describe()"
   ]
  },
  {
   "cell_type": "code",
   "execution_count": 69,
   "id": "7e3d0a5f",
   "metadata": {},
   "outputs": [
    {
     "data": {
      "text/html": [
       "<div>\n",
       "<style scoped>\n",
       "    .dataframe tbody tr th:only-of-type {\n",
       "        vertical-align: middle;\n",
       "    }\n",
       "\n",
       "    .dataframe tbody tr th {\n",
       "        vertical-align: top;\n",
       "    }\n",
       "\n",
       "    .dataframe thead th {\n",
       "        text-align: right;\n",
       "    }\n",
       "</style>\n",
       "<table border=\"1\" class=\"dataframe\">\n",
       "  <thead>\n",
       "    <tr style=\"text-align: right;\">\n",
       "      <th></th>\n",
       "      <th>ZIP</th>\n",
       "      <th>UCR CRIME CATEGORY</th>\n",
       "      <th>Crime Count</th>\n",
       "      <th>TotalWages</th>\n",
       "    </tr>\n",
       "  </thead>\n",
       "  <tbody>\n",
       "    <tr>\n",
       "      <th>0</th>\n",
       "      <td>85003.0</td>\n",
       "      <td>LARCENY-THEFT</td>\n",
       "      <td>758</td>\n",
       "      <td>149827797.0</td>\n",
       "    </tr>\n",
       "    <tr>\n",
       "      <th>1</th>\n",
       "      <td>85003.0</td>\n",
       "      <td>DRUG OFFENSE</td>\n",
       "      <td>194</td>\n",
       "      <td>149827797.0</td>\n",
       "    </tr>\n",
       "    <tr>\n",
       "      <th>2</th>\n",
       "      <td>85003.0</td>\n",
       "      <td>BURGLARY</td>\n",
       "      <td>179</td>\n",
       "      <td>149827797.0</td>\n",
       "    </tr>\n",
       "    <tr>\n",
       "      <th>3</th>\n",
       "      <td>85003.0</td>\n",
       "      <td>MOTOR VEHICLE THEFT</td>\n",
       "      <td>128</td>\n",
       "      <td>149827797.0</td>\n",
       "    </tr>\n",
       "    <tr>\n",
       "      <th>4</th>\n",
       "      <td>85003.0</td>\n",
       "      <td>AGGRAVATED ASSAULT</td>\n",
       "      <td>120</td>\n",
       "      <td>149827797.0</td>\n",
       "    </tr>\n",
       "  </tbody>\n",
       "</table>\n",
       "</div>"
      ],
      "text/plain": [
       "       ZIP   UCR CRIME CATEGORY  Crime Count   TotalWages\n",
       "0  85003.0        LARCENY-THEFT          758  149827797.0\n",
       "1  85003.0         DRUG OFFENSE          194  149827797.0\n",
       "2  85003.0             BURGLARY          179  149827797.0\n",
       "3  85003.0  MOTOR VEHICLE THEFT          128  149827797.0\n",
       "4  85003.0   AGGRAVATED ASSAULT          120  149827797.0"
      ]
     },
     "execution_count": 69,
     "metadata": {},
     "output_type": "execute_result"
    }
   ],
   "source": [
    "crimestat_salary_zip_category = pd.merge(crimestat_zip_by_category_count_df, salary_zip_only_phoenx, on = \"ZIP\", how = \"inner\")\n",
    "\n",
    "crimestat_salary_zip_category.head()"
   ]
  },
  {
   "cell_type": "code",
   "execution_count": 81,
   "id": "310e86bd",
   "metadata": {},
   "outputs": [
    {
     "data": {
      "text/html": [
       "<div>\n",
       "<style scoped>\n",
       "    .dataframe tbody tr th:only-of-type {\n",
       "        vertical-align: middle;\n",
       "    }\n",
       "\n",
       "    .dataframe tbody tr th {\n",
       "        vertical-align: top;\n",
       "    }\n",
       "\n",
       "    .dataframe thead th {\n",
       "        text-align: right;\n",
       "    }\n",
       "</style>\n",
       "<table border=\"1\" class=\"dataframe\">\n",
       "  <thead>\n",
       "    <tr style=\"text-align: right;\">\n",
       "      <th></th>\n",
       "      <th>INC NUMBER</th>\n",
       "      <th>OCCURRED ON</th>\n",
       "      <th>OCCURRED TO</th>\n",
       "      <th>UCR CRIME CATEGORY</th>\n",
       "      <th>100 BLOCK ADDR</th>\n",
       "      <th>ZIP</th>\n",
       "      <th>PREMISE TYPE</th>\n",
       "      <th>RecordNumber</th>\n",
       "      <th>ZipCodeType</th>\n",
       "      <th>City</th>\n",
       "      <th>...</th>\n",
       "      <th>Zaxis</th>\n",
       "      <th>WorldRegion</th>\n",
       "      <th>Country</th>\n",
       "      <th>LocationText</th>\n",
       "      <th>Location</th>\n",
       "      <th>Decommisioned</th>\n",
       "      <th>TaxReturnsFiled</th>\n",
       "      <th>EstimatedPopulation</th>\n",
       "      <th>TotalWages</th>\n",
       "      <th>Notes</th>\n",
       "    </tr>\n",
       "  </thead>\n",
       "  <tbody>\n",
       "    <tr>\n",
       "      <th>0</th>\n",
       "      <td>201600000052855</td>\n",
       "      <td>11/01/2015  00:00</td>\n",
       "      <td>01/09/2016  00:00</td>\n",
       "      <td>MOTOR VEHICLE THEFT</td>\n",
       "      <td>N 43RD AVE &amp; W CACTUS RD</td>\n",
       "      <td>85029.0</td>\n",
       "      <td>SINGLE FAMILY HOUSE</td>\n",
       "      <td>39912</td>\n",
       "      <td>STANDARD</td>\n",
       "      <td>PHOENIX</td>\n",
       "      <td>...</td>\n",
       "      <td>0.55</td>\n",
       "      <td>NaN</td>\n",
       "      <td>US</td>\n",
       "      <td>Phoenix, AZ</td>\n",
       "      <td>NA-US-AZ-PHOENIX</td>\n",
       "      <td>False</td>\n",
       "      <td>17887.0</td>\n",
       "      <td>30711.0</td>\n",
       "      <td>582499405.0</td>\n",
       "      <td>NaN</td>\n",
       "    </tr>\n",
       "    <tr>\n",
       "      <th>1</th>\n",
       "      <td>201500002147335</td>\n",
       "      <td>11/01/2015  00:01</td>\n",
       "      <td>11/07/2015  22:00</td>\n",
       "      <td>LARCENY-THEFT</td>\n",
       "      <td>110XX N 35TH AVE</td>\n",
       "      <td>85029.0</td>\n",
       "      <td>VEHICLE</td>\n",
       "      <td>39912</td>\n",
       "      <td>STANDARD</td>\n",
       "      <td>PHOENIX</td>\n",
       "      <td>...</td>\n",
       "      <td>0.55</td>\n",
       "      <td>NaN</td>\n",
       "      <td>US</td>\n",
       "      <td>Phoenix, AZ</td>\n",
       "      <td>NA-US-AZ-PHOENIX</td>\n",
       "      <td>False</td>\n",
       "      <td>17887.0</td>\n",
       "      <td>30711.0</td>\n",
       "      <td>582499405.0</td>\n",
       "      <td>NaN</td>\n",
       "    </tr>\n",
       "    <tr>\n",
       "      <th>2</th>\n",
       "      <td>201500002334281</td>\n",
       "      <td>11/01/2015  00:01</td>\n",
       "      <td>11/30/2015  00:00</td>\n",
       "      <td>MOTOR VEHICLE THEFT</td>\n",
       "      <td>17XX W DESERT COVE AVE</td>\n",
       "      <td>85029.0</td>\n",
       "      <td>PARKING LOT</td>\n",
       "      <td>39912</td>\n",
       "      <td>STANDARD</td>\n",
       "      <td>PHOENIX</td>\n",
       "      <td>...</td>\n",
       "      <td>0.55</td>\n",
       "      <td>NaN</td>\n",
       "      <td>US</td>\n",
       "      <td>Phoenix, AZ</td>\n",
       "      <td>NA-US-AZ-PHOENIX</td>\n",
       "      <td>False</td>\n",
       "      <td>17887.0</td>\n",
       "      <td>30711.0</td>\n",
       "      <td>582499405.0</td>\n",
       "      <td>NaN</td>\n",
       "    </tr>\n",
       "    <tr>\n",
       "      <th>3</th>\n",
       "      <td>201500002126247</td>\n",
       "      <td>11/01/2015  05:00</td>\n",
       "      <td>11/02/2015  16:00</td>\n",
       "      <td>BURGLARY</td>\n",
       "      <td>17XX W DESERT COVE AVE</td>\n",
       "      <td>85029.0</td>\n",
       "      <td>APARTMENT</td>\n",
       "      <td>39912</td>\n",
       "      <td>STANDARD</td>\n",
       "      <td>PHOENIX</td>\n",
       "      <td>...</td>\n",
       "      <td>0.55</td>\n",
       "      <td>NaN</td>\n",
       "      <td>US</td>\n",
       "      <td>Phoenix, AZ</td>\n",
       "      <td>NA-US-AZ-PHOENIX</td>\n",
       "      <td>False</td>\n",
       "      <td>17887.0</td>\n",
       "      <td>30711.0</td>\n",
       "      <td>582499405.0</td>\n",
       "      <td>NaN</td>\n",
       "    </tr>\n",
       "    <tr>\n",
       "      <th>4</th>\n",
       "      <td>201600000795753</td>\n",
       "      <td>11/01/2015  12:00</td>\n",
       "      <td>04/27/2016  12:00</td>\n",
       "      <td>BURGLARY</td>\n",
       "      <td>112XX N 19TH AVE</td>\n",
       "      <td>85029.0</td>\n",
       "      <td>RETAIL BUSINESS</td>\n",
       "      <td>39912</td>\n",
       "      <td>STANDARD</td>\n",
       "      <td>PHOENIX</td>\n",
       "      <td>...</td>\n",
       "      <td>0.55</td>\n",
       "      <td>NaN</td>\n",
       "      <td>US</td>\n",
       "      <td>Phoenix, AZ</td>\n",
       "      <td>NA-US-AZ-PHOENIX</td>\n",
       "      <td>False</td>\n",
       "      <td>17887.0</td>\n",
       "      <td>30711.0</td>\n",
       "      <td>582499405.0</td>\n",
       "      <td>NaN</td>\n",
       "    </tr>\n",
       "  </tbody>\n",
       "</table>\n",
       "<p>5 rows × 26 columns</p>\n",
       "</div>"
      ],
      "text/plain": [
       "        INC NUMBER        OCCURRED ON        OCCURRED TO   UCR CRIME CATEGORY  \\\n",
       "0  201600000052855  11/01/2015  00:00  01/09/2016  00:00  MOTOR VEHICLE THEFT   \n",
       "1  201500002147335  11/01/2015  00:01  11/07/2015  22:00        LARCENY-THEFT   \n",
       "2  201500002334281  11/01/2015  00:01  11/30/2015  00:00  MOTOR VEHICLE THEFT   \n",
       "3  201500002126247  11/01/2015  05:00  11/02/2015  16:00             BURGLARY   \n",
       "4  201600000795753  11/01/2015  12:00  04/27/2016  12:00             BURGLARY   \n",
       "\n",
       "             100 BLOCK ADDR      ZIP         PREMISE TYPE  RecordNumber  \\\n",
       "0  N 43RD AVE & W CACTUS RD  85029.0  SINGLE FAMILY HOUSE         39912   \n",
       "1          110XX N 35TH AVE  85029.0              VEHICLE         39912   \n",
       "2    17XX W DESERT COVE AVE  85029.0          PARKING LOT         39912   \n",
       "3    17XX W DESERT COVE AVE  85029.0            APARTMENT         39912   \n",
       "4          112XX N 19TH AVE  85029.0      RETAIL BUSINESS         39912   \n",
       "\n",
       "  ZipCodeType     City  ... Zaxis WorldRegion  Country  LocationText  \\\n",
       "0    STANDARD  PHOENIX  ...  0.55         NaN       US   Phoenix, AZ   \n",
       "1    STANDARD  PHOENIX  ...  0.55         NaN       US   Phoenix, AZ   \n",
       "2    STANDARD  PHOENIX  ...  0.55         NaN       US   Phoenix, AZ   \n",
       "3    STANDARD  PHOENIX  ...  0.55         NaN       US   Phoenix, AZ   \n",
       "4    STANDARD  PHOENIX  ...  0.55         NaN       US   Phoenix, AZ   \n",
       "\n",
       "           Location  Decommisioned  TaxReturnsFiled EstimatedPopulation  \\\n",
       "0  NA-US-AZ-PHOENIX          False          17887.0             30711.0   \n",
       "1  NA-US-AZ-PHOENIX          False          17887.0             30711.0   \n",
       "2  NA-US-AZ-PHOENIX          False          17887.0             30711.0   \n",
       "3  NA-US-AZ-PHOENIX          False          17887.0             30711.0   \n",
       "4  NA-US-AZ-PHOENIX          False          17887.0             30711.0   \n",
       "\n",
       "    TotalWages Notes  \n",
       "0  582499405.0   NaN  \n",
       "1  582499405.0   NaN  \n",
       "2  582499405.0   NaN  \n",
       "3  582499405.0   NaN  \n",
       "4  582499405.0   NaN  \n",
       "\n",
       "[5 rows x 26 columns]"
      ]
     },
     "execution_count": 81,
     "metadata": {},
     "output_type": "execute_result"
    }
   ],
   "source": [
    "crimestat_salary = pd.merge(crimestat, salary_zip_az_phoenx, on = \"ZIP\", how = \"inner\")\n",
    "\n",
    "crimestat_salary.head()"
   ]
  },
  {
   "cell_type": "markdown",
   "id": "8803a335",
   "metadata": {},
   "source": [
    "### Bar Graph of Data"
   ]
  },
  {
   "cell_type": "code",
   "execution_count": 97,
   "id": "5188909a",
   "metadata": {},
   "outputs": [
    {
     "data": {
      "text/plain": [
       "<AxesSubplot: >"
      ]
     },
     "execution_count": 97,
     "metadata": {},
     "output_type": "execute_result"
    },
    {
     "data": {
      "image/png": "[encoded data removed]",
      "text/plain": [
       "<Figure size 640x480 with 1 Axes>"
      ]
     },
     "metadata": {},
     "output_type": "display_data"
    }
   ],
   "source": [
    "crimestat_salary[crimestat_salary[\"UCR CRIME CATEGORY\"]=='BURGLARY']['TotalWages'].value_counts().plot.bar()"
   ]
  },
  {
   "cell_type": "code",
   "execution_count": 100,
   "id": "49907c50",
   "metadata": {},
   "outputs": [
    {
     "data": {
      "text/plain": [
       "<AxesSubplot: >"
      ]
     },
     "execution_count": 100,
     "metadata": {},
     "output_type": "execute_result"
    },
    {
     "data": {
      "image/png": "[encoded data removed]",
      "text/plain": [
       "<Figure size 640x480 with 1 Axes>"
      ]
     },
     "metadata": {},
     "output_type": "display_data"
    }
   ],
   "source": [
    "crimestat_salary_zip.plot.bar()"
   ]
  },
  {
   "cell_type": "markdown",
   "id": "8ae87ae5",
   "metadata": {},
   "source": [
    "### Scatter Plot of Data"
   ]
  },
  {
   "cell_type": "code",
   "execution_count": 67,
   "id": "5ec3293e",
   "metadata": {},
   "outputs": [
    {
     "data": {
      "image/png": "[encoded data removed]",
      "text/plain": [
       "<Figure size 640x480 with 1 Axes>"
      ]
     },
     "metadata": {},
     "output_type": "display_data"
    }
   ],
   "source": [
    "count = crimestat_salary_zip['Crime Count']\n",
    "wages = crimestat_salary_zip.TotalWages\n",
    "plt.scatter(count, wages)\n",
    "matplotlib.pyplot.xlabel('Crime Count')\n",
    "matplotlib.pyplot.ylabel('Total Wages')\n",
    "plt.show()"
   ]
  }
 ],
 "metadata": {
  "kernelspec": {
   "display_name": "Python 3 (ipykernel)",
   "language": "python",
   "name": "python3"
  },
  "language_info": {
   "codemirror_mode": {
    "name": "ipython",
    "version": 3
   },
   "file_extension": ".py",
   "mimetype": "text/x-python",
   "name": "python",
   "nbconvert_exporter": "python",
   "pygments_lexer": "ipython3",
   "version": "3.10.4"
  }
 },
 "nbformat": 4,
 "nbformat_minor": 5
}
