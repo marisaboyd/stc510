{
 "cells": [
  {
   "cell_type": "markdown",
   "id": "23f8f7c7-d917-49e6-aa6c-3f06c29dc631",
   "metadata": {},
   "source": [
    "# STP 510 Module 5 Basics\n",
    "## By Marisa Boyd"
   ]
  },
  {
   "cell_type": "code",
   "execution_count": 1,
   "id": "f3abf073-b50d-4b1e-a2d1-7d06e8bfcdee",
   "metadata": {},
   "outputs": [],
   "source": [
    "from nltk import word_tokenize\n",
    "from nltk.corpus import stopwords\n",
    "from nltk.stem import WordNetLemmatizer\n",
    "from bs4 import BeautifulSoup\n",
    "from sklearn.feature_extraction.text import TfidfVectorizer\n",
    "from sklearn.model_selection import train_test_split\n",
    "from sklearn.naive_bayes import MultinomialNB\n",
    "from sklearn.metrics import accuracy_score\n",
    "import pandas as pd\n",
    "import string\n",
    "import json\n",
    "import re\n",
    "import os\n",
    "from string import punctuation\n",
    "from datetime import datetime"
   ]
  },
  {
   "cell_type": "code",
   "execution_count": 2,
   "id": "b423c2bc-4abf-4bba-932f-2403fde9d46e",
   "metadata": {},
   "outputs": [
    {
     "data": {
      "text/plain": [
       "[{'category': 'HISTORY',\n",
       "  'air_date': '2004-12-31',\n",
       "  'question': \"'For the last 8 years of his life, Galileo was under house arrest for espousing this man's theory'\",\n",
       "  'value': '$200',\n",
       "  'answer': 'Copernicus',\n",
       "  'round': 'Jeopardy!',\n",
       "  'show_number': '4680'}]"
      ]
     },
     "execution_count": 2,
     "metadata": {},
     "output_type": "execute_result"
    }
   ],
   "source": [
    "# Opening JSON file\n",
    "jeopardy_json_file = open('jeopardy.json')\n",
    "  \n",
    "# returns JSON object as \n",
    "# a list of dictionaries\n",
    "jeopardy_data = json.load(jeopardy_json_file)\n",
    "  \n",
    "#displays the first dictionary in the list\n",
    "jeopardy_data[:1]"
   ]
  },
  {
   "cell_type": "code",
   "execution_count": 3,
   "id": "bbde037b-7908-43e7-8b00-60f0fe3c0fb6",
   "metadata": {},
   "outputs": [
    {
     "data": {
      "text/plain": [
       "dict_keys(['category', 'air_date', 'question', 'value', 'answer', 'round', 'show_number'])"
      ]
     },
     "execution_count": 3,
     "metadata": {},
     "output_type": "execute_result"
    }
   ],
   "source": [
    "#display the keys for the dictionary\n",
    "jeopardy_data[0].keys()"
   ]
  },
  {
   "cell_type": "code",
   "execution_count": 4,
   "id": "7793231c-7dc3-4b8d-84c2-f37fcb6d8f0f",
   "metadata": {},
   "outputs": [],
   "source": [
    "#iterate through the list of dictionaries and copy each value into its own list\n",
    "category = [d['category'] for d in jeopardy_data]\n",
    "air_date = [d['air_date'] for d in jeopardy_data]\n",
    "question = [d['question'] for d in jeopardy_data]\n",
    "value = [d['value'] for d in jeopardy_data]\n",
    "answer = [d['answer'] for d in jeopardy_data]\n",
    "jround = [d['round'] for d in jeopardy_data]\n",
    "show_number = [d['show_number'] for d in jeopardy_data]"
   ]
  },
  {
   "cell_type": "code",
   "execution_count": 5,
   "id": "81fce2fb-3c79-43cd-9ca3-9d727d11fcc8",
   "metadata": {},
   "outputs": [
    {
     "data": {
      "text/plain": [
       "list"
      ]
     },
     "execution_count": 5,
     "metadata": {},
     "output_type": "execute_result"
    }
   ],
   "source": [
    "#diplay the type of data stored in the variable value\n",
    "type(value)"
   ]
  },
  {
   "cell_type": "code",
   "execution_count": 6,
   "id": "31cf7d01-c0a5-4f19-af94-7813d4579ba9",
   "metadata": {},
   "outputs": [
    {
     "data": {
      "text/plain": [
       "str"
      ]
     },
     "execution_count": 6,
     "metadata": {},
     "output_type": "execute_result"
    }
   ],
   "source": [
    "#display the type of data stored within the first item in the variable value\n",
    "type(value[0])"
   ]
  },
  {
   "cell_type": "code",
   "execution_count": 7,
   "id": "be0cbc7d-46fe-4b99-b367-35c902f4f7d9",
   "metadata": {},
   "outputs": [],
   "source": [
    "#iterate through the value list and insert a ' ' for all none/Nan values\n",
    "new_value = [str(i or '') for i in value]"
   ]
  },
  {
   "cell_type": "code",
   "execution_count": 8,
   "id": "59a35ef6-2aa4-48a4-9a3e-9f05a75d0dd6",
   "metadata": {},
   "outputs": [],
   "source": [
    "#low value = 0 and high value = 1\n",
    "#applying these values based on the value award for each question\n",
    "#anything between 200 - 999 is low value, anything from 10000 and above is high value\n",
    "easy_hard = [0 if re.search(r'\\$\\d{3}$',x) else 1  for x in new_value]"
   ]
  },
  {
   "cell_type": "code",
   "execution_count": 9,
   "id": "ccd0c04f-a5ab-4fa3-b9d6-584401713da5",
   "metadata": {},
   "outputs": [
    {
     "data": {
      "text/plain": [
       "[('$200', 0),\n",
       " ('$200', 0),\n",
       " ('$200', 0),\n",
       " ('$200', 0),\n",
       " ('$200', 0),\n",
       " ('$200', 0),\n",
       " ('$400', 0),\n",
       " ('$400', 0),\n",
       " ('$400', 0),\n",
       " ('$400', 0),\n",
       " ('$400', 0),\n",
       " ('$400', 0),\n",
       " ('$600', 0),\n",
       " ('$600', 0),\n",
       " ('$600', 0),\n",
       " ('$600', 0),\n",
       " ('$600', 0),\n",
       " ('$600', 0),\n",
       " ('$800', 0),\n",
       " ('$800', 0),\n",
       " ('$800', 0),\n",
       " ('$800', 0),\n",
       " ('$2,000', 1),\n",
       " ('$800', 0),\n",
       " ('$1000', 1),\n",
       " ('$1000', 1),\n",
       " ('$1000', 1),\n",
       " ('$1000', 1),\n",
       " ('$1000', 1),\n",
       " ('$400', 0)]"
      ]
     },
     "execution_count": 9,
     "metadata": {},
     "output_type": "execute_result"
    }
   ],
   "source": [
    "list(zip(new_value, easy_hard))[:30]"
   ]
  },
  {
   "cell_type": "code",
   "execution_count": 10,
   "id": "e17deb62-48e7-407f-bea5-2b4a77a5a735",
   "metadata": {},
   "outputs": [],
   "source": [
    "#created dataframe for all elements\n",
    "df = pd.DataFrame ({'category': category,\n",
    "                    'air date': air_date,\n",
    "                    'question': question,\n",
    "                    'value': new_value,\n",
    "                    'answer': answer,\n",
    "                    'round': jround,\n",
    "                    'show number': show_number,\n",
    "                    'prediction': easy_hard\n",
    "                   })"
   ]
  },
  {
   "cell_type": "code",
   "execution_count": 11,
   "id": "44d1afa6-aa3d-414e-88ae-fff574b234dd",
   "metadata": {},
   "outputs": [
    {
     "data": {
      "text/html": [
       "<div>\n",
       "<style scoped>\n",
       "    .dataframe tbody tr th:only-of-type {\n",
       "        vertical-align: middle;\n",
       "    }\n",
       "\n",
       "    .dataframe tbody tr th {\n",
       "        vertical-align: top;\n",
       "    }\n",
       "\n",
       "    .dataframe thead th {\n",
       "        text-align: right;\n",
       "    }\n",
       "</style>\n",
       "<table border=\"1\" class=\"dataframe\">\n",
       "  <thead>\n",
       "    <tr style=\"text-align: right;\">\n",
       "      <th></th>\n",
       "      <th>category</th>\n",
       "      <th>air date</th>\n",
       "      <th>question</th>\n",
       "      <th>value</th>\n",
       "      <th>answer</th>\n",
       "      <th>round</th>\n",
       "      <th>show number</th>\n",
       "      <th>prediction</th>\n",
       "    </tr>\n",
       "  </thead>\n",
       "  <tbody>\n",
       "    <tr>\n",
       "      <th>0</th>\n",
       "      <td>HISTORY</td>\n",
       "      <td>2004-12-31</td>\n",
       "      <td>'For the last 8 years of his life, Galileo was...</td>\n",
       "      <td>$200</td>\n",
       "      <td>Copernicus</td>\n",
       "      <td>Jeopardy!</td>\n",
       "      <td>4680</td>\n",
       "      <td>0</td>\n",
       "    </tr>\n",
       "    <tr>\n",
       "      <th>1</th>\n",
       "      <td>ESPN's TOP 10 ALL-TIME ATHLETES</td>\n",
       "      <td>2004-12-31</td>\n",
       "      <td>'No. 2: 1912 Olympian; football star at Carlis...</td>\n",
       "      <td>$200</td>\n",
       "      <td>Jim Thorpe</td>\n",
       "      <td>Jeopardy!</td>\n",
       "      <td>4680</td>\n",
       "      <td>0</td>\n",
       "    </tr>\n",
       "    <tr>\n",
       "      <th>2</th>\n",
       "      <td>EVERYBODY TALKS ABOUT IT...</td>\n",
       "      <td>2004-12-31</td>\n",
       "      <td>'The city of Yuma in this state has a record a...</td>\n",
       "      <td>$200</td>\n",
       "      <td>Arizona</td>\n",
       "      <td>Jeopardy!</td>\n",
       "      <td>4680</td>\n",
       "      <td>0</td>\n",
       "    </tr>\n",
       "    <tr>\n",
       "      <th>3</th>\n",
       "      <td>THE COMPANY LINE</td>\n",
       "      <td>2004-12-31</td>\n",
       "      <td>'In 1963, live on \"The Art Linkletter Show\", t...</td>\n",
       "      <td>$200</td>\n",
       "      <td>McDonald\\'s</td>\n",
       "      <td>Jeopardy!</td>\n",
       "      <td>4680</td>\n",
       "      <td>0</td>\n",
       "    </tr>\n",
       "    <tr>\n",
       "      <th>4</th>\n",
       "      <td>EPITAPHS &amp; TRIBUTES</td>\n",
       "      <td>2004-12-31</td>\n",
       "      <td>'Signer of the Dec. of Indep., framer of the C...</td>\n",
       "      <td>$200</td>\n",
       "      <td>John Adams</td>\n",
       "      <td>Jeopardy!</td>\n",
       "      <td>4680</td>\n",
       "      <td>0</td>\n",
       "    </tr>\n",
       "  </tbody>\n",
       "</table>\n",
       "</div>"
      ],
      "text/plain": [
       "                          category    air date  \\\n",
       "0                          HISTORY  2004-12-31   \n",
       "1  ESPN's TOP 10 ALL-TIME ATHLETES  2004-12-31   \n",
       "2      EVERYBODY TALKS ABOUT IT...  2004-12-31   \n",
       "3                 THE COMPANY LINE  2004-12-31   \n",
       "4              EPITAPHS & TRIBUTES  2004-12-31   \n",
       "\n",
       "                                            question value       answer  \\\n",
       "0  'For the last 8 years of his life, Galileo was...  $200   Copernicus   \n",
       "1  'No. 2: 1912 Olympian; football star at Carlis...  $200   Jim Thorpe   \n",
       "2  'The city of Yuma in this state has a record a...  $200      Arizona   \n",
       "3  'In 1963, live on \"The Art Linkletter Show\", t...  $200  McDonald\\'s   \n",
       "4  'Signer of the Dec. of Indep., framer of the C...  $200   John Adams   \n",
       "\n",
       "       round show number  prediction  \n",
       "0  Jeopardy!        4680           0  \n",
       "1  Jeopardy!        4680           0  \n",
       "2  Jeopardy!        4680           0  \n",
       "3  Jeopardy!        4680           0  \n",
       "4  Jeopardy!        4680           0  "
      ]
     },
     "execution_count": 11,
     "metadata": {},
     "output_type": "execute_result"
    }
   ],
   "source": [
    "#display first five rows of dataframe\n",
    "df.head()"
   ]
  },
  {
   "cell_type": "markdown",
   "id": "ffe897b5-b9dc-4a7a-aa3b-5b8eaa3cb6da",
   "metadata": {},
   "source": [
    "### Basic Attempt:\n",
    "Used the category feature to predict the high/low value."
   ]
  },
  {
   "cell_type": "code",
   "execution_count": 12,
   "id": "1c83dbd1-c20e-40c6-a50f-c57afc0dedae",
   "metadata": {},
   "outputs": [],
   "source": [
    "#creating the training set and the test set for the x and y variables\n",
    "X_train, X_test, y_train, y_test = train_test_split(df.category, df.prediction, \n",
    "                                                    random_state = 1)"
   ]
  },
  {
   "cell_type": "code",
   "execution_count": 14,
   "id": "8f327647-23c7-4d53-952e-f19cb937518a",
   "metadata": {},
   "outputs": [],
   "source": [
    "tfidf_vectorizer = TfidfVectorizer(use_idf=True)\n",
    "X_train_tf = tfidf_vectorizer.fit_transform(X_train)\n",
    "X_test_tf = tfidf_vectorizer.transform(X_test)"
   ]
  },
  {
   "cell_type": "code",
   "execution_count": 15,
   "id": "d9b54c01-3b55-449a-affb-c820254541a0",
   "metadata": {},
   "outputs": [],
   "source": [
    "naive_bayes = MultinomialNB()\n",
    "naive_bayes.fit(X_train_tf, y_train)\n",
    "predictions = naive_bayes.predict(X_test_tf)"
   ]
  },
  {
   "cell_type": "code",
   "execution_count": 16,
   "id": "3c8c3b16-360c-414d-951f-96ddc419e8d1",
   "metadata": {},
   "outputs": [
    {
     "name": "stdout",
     "output_type": "stream",
     "text": [
      "Accuracy:  0.6869433739605038\n"
     ]
    }
   ],
   "source": [
    "#display the accuracy score for the model\n",
    "print('Accuracy: ', accuracy_score(y_test, predictions))"
   ]
  },
  {
   "cell_type": "markdown",
   "id": "b926146c-19fc-4ee5-abaf-d1c2e9586da1",
   "metadata": {},
   "source": [
    "### New Attempt 1:\n",
    "Used the question feature to predict the high/low value."
   ]
  },
  {
   "cell_type": "code",
   "execution_count": 18,
   "id": "5e7228a8-24d6-473f-8506-a591b873bf95",
   "metadata": {},
   "outputs": [],
   "source": [
    "#creating the training set and the test set for the x and y variables\n",
    "X_train, X_test, y_train, y_test = train_test_split(df.question, df.prediction, \n",
    "                                                    random_state = 1)"
   ]
  },
  {
   "cell_type": "code",
   "execution_count": 19,
   "id": "dcb59e2b-577f-48c2-98ed-6c477954a359",
   "metadata": {},
   "outputs": [],
   "source": [
    "tfidf_vectorizer = TfidfVectorizer(use_idf=True)\n",
    "X_train_tf = tfidf_vectorizer.fit_transform(X_train)\n",
    "X_test_tf = tfidf_vectorizer.transform(X_test)"
   ]
  },
  {
   "cell_type": "code",
   "execution_count": 20,
   "id": "beca192c-4835-48bc-b12d-f99189fb4e7f",
   "metadata": {},
   "outputs": [],
   "source": [
    "naive_bayes = MultinomialNB()\n",
    "naive_bayes.fit(X_train_tf, y_train)\n",
    "predictions = naive_bayes.predict(X_test_tf)"
   ]
  },
  {
   "cell_type": "code",
   "execution_count": 21,
   "id": "f878e679-9512-4f3a-a955-e12ed3b9325d",
   "metadata": {},
   "outputs": [
    {
     "name": "stdout",
     "output_type": "stream",
     "text": [
      "Accuracy:  0.7011229325318533\n"
     ]
    }
   ],
   "source": [
    "#display the accuracy score for the model\n",
    "print('Accuracy: ', accuracy_score(y_test, predictions))"
   ]
  },
  {
   "cell_type": "markdown",
   "id": "3956ecfa-3313-4881-b6f3-514f62e80f7e",
   "metadata": {
    "tags": []
   },
   "source": [
    "### New Attempt 2:\n",
    "Used the lemmatized versioni of the question featture to predict the high/low value."
   ]
  },
  {
   "cell_type": "code",
   "execution_count": 22,
   "id": "816ddc42-6dca-47b3-b9e9-d5073ebaff2d",
   "metadata": {},
   "outputs": [],
   "source": [
    "#defined english_stopwords with potential stop words and punctuation that might be seen\n",
    "english_stopwords = set(stopwords.words('english') + list(punctuation) + ['..','...','....','``', \"''\",'//n'])"
   ]
  },
  {
   "cell_type": "code",
   "execution_count": 23,
   "id": "c7ddb645-de49-48a3-b834-525ba2f042ae",
   "metadata": {},
   "outputs": [],
   "source": [
    "#defined a function to lemmatize the text in the question feature\n",
    "def clean_wordlist(questionlist):\n",
    "    \n",
    "    lemmatizer = WordNetLemmatizer()\n",
    "    for eachquestion in questionlist:\n",
    "        clean_question = [lemmatizer.lemmatize(word) for word in word_tokenize(eachquestion)\n",
    "                            if word not in english_stopwords]\n",
    "    return clean_question"
   ]
  },
  {
   "cell_type": "code",
   "execution_count": 24,
   "id": "3773a8f2-f0fe-495e-a07b-131934c5a107",
   "metadata": {},
   "outputs": [
    {
     "name": "stdout",
     "output_type": "stream",
     "text": [
      ":35:11\n",
      ":35:56\n"
     ]
    }
   ],
   "source": [
    "#applied the defined function to the question list\n",
    "print(datetime.now().strftime(':%M:%S'))\n",
    "allquestions = [' '.join(clean_wordlist([x])) for x in question]\n",
    "print(datetime.now().strftime(':%M:%S'))"
   ]
  },
  {
   "cell_type": "code",
   "execution_count": 25,
   "id": "8a0149f7-235c-4f24-92ae-d6d7e258aeff",
   "metadata": {},
   "outputs": [],
   "source": [
    "#created dataframe for all elements\n",
    "df = pd.DataFrame ({'category': category,\n",
    "                    'air date': air_date,\n",
    "                    'question': allquestions,\n",
    "                    'value': new_value,\n",
    "                    'answer': answer,\n",
    "                    'round': jround,\n",
    "                    'show number': show_number,\n",
    "                    'prediction': easy_hard\n",
    "                   })"
   ]
  },
  {
   "cell_type": "code",
   "execution_count": 26,
   "id": "ad845b49-708f-4c1b-9849-ae20acd1ff7c",
   "metadata": {},
   "outputs": [
    {
     "data": {
      "text/html": [
       "<div>\n",
       "<style scoped>\n",
       "    .dataframe tbody tr th:only-of-type {\n",
       "        vertical-align: middle;\n",
       "    }\n",
       "\n",
       "    .dataframe tbody tr th {\n",
       "        vertical-align: top;\n",
       "    }\n",
       "\n",
       "    .dataframe thead th {\n",
       "        text-align: right;\n",
       "    }\n",
       "</style>\n",
       "<table border=\"1\" class=\"dataframe\">\n",
       "  <thead>\n",
       "    <tr style=\"text-align: right;\">\n",
       "      <th></th>\n",
       "      <th>category</th>\n",
       "      <th>air date</th>\n",
       "      <th>question</th>\n",
       "      <th>value</th>\n",
       "      <th>answer</th>\n",
       "      <th>round</th>\n",
       "      <th>show number</th>\n",
       "      <th>prediction</th>\n",
       "    </tr>\n",
       "  </thead>\n",
       "  <tbody>\n",
       "    <tr>\n",
       "      <th>0</th>\n",
       "      <td>HISTORY</td>\n",
       "      <td>2004-12-31</td>\n",
       "      <td>'For last 8 year life Galileo house arrest esp...</td>\n",
       "      <td>$200</td>\n",
       "      <td>Copernicus</td>\n",
       "      <td>Jeopardy!</td>\n",
       "      <td>4680</td>\n",
       "      <td>0</td>\n",
       "    </tr>\n",
       "    <tr>\n",
       "      <th>1</th>\n",
       "      <td>ESPN's TOP 10 ALL-TIME ATHLETES</td>\n",
       "      <td>2004-12-31</td>\n",
       "      <td>'No 2 1912 Olympian football star Carlisle Ind...</td>\n",
       "      <td>$200</td>\n",
       "      <td>Jim Thorpe</td>\n",
       "      <td>Jeopardy!</td>\n",
       "      <td>4680</td>\n",
       "      <td>0</td>\n",
       "    </tr>\n",
       "    <tr>\n",
       "      <th>2</th>\n",
       "      <td>EVERYBODY TALKS ABOUT IT...</td>\n",
       "      <td>2004-12-31</td>\n",
       "      <td>'The city Yuma state record average 4,055 hour...</td>\n",
       "      <td>$200</td>\n",
       "      <td>Arizona</td>\n",
       "      <td>Jeopardy!</td>\n",
       "      <td>4680</td>\n",
       "      <td>0</td>\n",
       "    </tr>\n",
       "    <tr>\n",
       "      <th>3</th>\n",
       "      <td>THE COMPANY LINE</td>\n",
       "      <td>2004-12-31</td>\n",
       "      <td>'In 1963 live The Art Linkletter Show company ...</td>\n",
       "      <td>$200</td>\n",
       "      <td>McDonald\\'s</td>\n",
       "      <td>Jeopardy!</td>\n",
       "      <td>4680</td>\n",
       "      <td>0</td>\n",
       "    </tr>\n",
       "    <tr>\n",
       "      <th>4</th>\n",
       "      <td>EPITAPHS &amp; TRIBUTES</td>\n",
       "      <td>2004-12-31</td>\n",
       "      <td>'Signer Dec. Indep. framer Constitution Mass. ...</td>\n",
       "      <td>$200</td>\n",
       "      <td>John Adams</td>\n",
       "      <td>Jeopardy!</td>\n",
       "      <td>4680</td>\n",
       "      <td>0</td>\n",
       "    </tr>\n",
       "  </tbody>\n",
       "</table>\n",
       "</div>"
      ],
      "text/plain": [
       "                          category    air date  \\\n",
       "0                          HISTORY  2004-12-31   \n",
       "1  ESPN's TOP 10 ALL-TIME ATHLETES  2004-12-31   \n",
       "2      EVERYBODY TALKS ABOUT IT...  2004-12-31   \n",
       "3                 THE COMPANY LINE  2004-12-31   \n",
       "4              EPITAPHS & TRIBUTES  2004-12-31   \n",
       "\n",
       "                                            question value       answer  \\\n",
       "0  'For last 8 year life Galileo house arrest esp...  $200   Copernicus   \n",
       "1  'No 2 1912 Olympian football star Carlisle Ind...  $200   Jim Thorpe   \n",
       "2  'The city Yuma state record average 4,055 hour...  $200      Arizona   \n",
       "3  'In 1963 live The Art Linkletter Show company ...  $200  McDonald\\'s   \n",
       "4  'Signer Dec. Indep. framer Constitution Mass. ...  $200   John Adams   \n",
       "\n",
       "       round show number  prediction  \n",
       "0  Jeopardy!        4680           0  \n",
       "1  Jeopardy!        4680           0  \n",
       "2  Jeopardy!        4680           0  \n",
       "3  Jeopardy!        4680           0  \n",
       "4  Jeopardy!        4680           0  "
      ]
     },
     "execution_count": 26,
     "metadata": {},
     "output_type": "execute_result"
    }
   ],
   "source": [
    "#display first five rows of dataframe\n",
    "df.head()"
   ]
  },
  {
   "cell_type": "code",
   "execution_count": 27,
   "id": "3ce91d14-a919-456b-a899-ba3a858defaf",
   "metadata": {},
   "outputs": [],
   "source": [
    "#creating the training set and the test set for the x and y variables\n",
    "X_train, X_test, y_train, y_test = train_test_split(df.question, df.prediction, \n",
    "                                                    random_state = 1)"
   ]
  },
  {
   "cell_type": "code",
   "execution_count": 28,
   "id": "c4f0688e-3dd8-4edb-bae0-74686e865f0e",
   "metadata": {},
   "outputs": [],
   "source": [
    "tfidf_vectorizer = TfidfVectorizer(use_idf=True)\n",
    "X_train_tf = tfidf_vectorizer.fit_transform(X_train)\n",
    "X_test_tf = tfidf_vectorizer.transform(X_test)"
   ]
  },
  {
   "cell_type": "code",
   "execution_count": 29,
   "id": "163f6f05-5f4f-442e-9592-117d07e02d84",
   "metadata": {},
   "outputs": [],
   "source": [
    "naive_bayes = MultinomialNB()\n",
    "naive_bayes.fit(X_train_tf, y_train)\n",
    "predictions = naive_bayes.predict(X_test_tf)"
   ]
  },
  {
   "cell_type": "code",
   "execution_count": 30,
   "id": "ebdacfae-4539-4dde-bddb-dca4fa17b018",
   "metadata": {},
   "outputs": [
    {
     "name": "stdout",
     "output_type": "stream",
     "text": [
      "Accuracy:  0.7015839064776059\n"
     ]
    }
   ],
   "source": [
    "#display the accuracy score for the model\n",
    "print('Accuracy: ', accuracy_score(y_test, predictions))"
   ]
  }
 ],
 "metadata": {
  "kernelspec": {
   "display_name": "Python 3 (ipykernel)",
   "language": "python",
   "name": "python3"
  },
  "language_info": {
   "codemirror_mode": {
    "name": "ipython",
    "version": 3
   },
   "file_extension": ".py",
   "mimetype": "text/x-python",
   "name": "python",
   "nbconvert_exporter": "python",
   "pygments_lexer": "ipython3",
   "version": "3.9.12"
  }
 },
 "nbformat": 4,
 "nbformat_minor": 5
}
